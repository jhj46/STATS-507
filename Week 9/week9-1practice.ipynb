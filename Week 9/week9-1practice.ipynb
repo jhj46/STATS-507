{
 "cells": [
  {
   "cell_type": "markdown",
   "id": "fbc7b52c-0bca-4dbe-a204-300547055a72",
   "metadata": {},
   "source": [
    "# STATS 507, Week 9-1 practice: scikit learn"
   ]
  },
  {
   "cell_type": "markdown",
   "id": "95897bd7-fd09-42be-835f-a117719206be",
   "metadata": {},
   "source": [
    "### Problem 1 Your first machine learning project\n",
    "This practice shows how scikit-learn can be used to recognize images of hand-written digits, from 0-9.\n",
    "\n",
    "Load data: https://scikit-learn.org/1.5/modules/generated/sklearn.datasets.load_digits.html\n",
    "\n",
    "Split data: https://scikit-learn.org/1.5/modules/generated/sklearn.model_selection.train_test_split.html\n",
    "\n",
    "Create a SVM model: https://scikit-learn.org/dev/modules/generated/sklearn.svm.SVC.html#sklearn.svm.SVC\n",
    "\n",
    "Evaluate the model performance:https://scikit-learn.org/1.5/modules/generated/sklearn.metrics.classification_report.html\n",
    "\n"
   ]
  },
  {
   "cell_type": "code",
   "execution_count": null,
   "id": "f640992a-9768-45b5-bbcc-48eb70816ec8",
   "metadata": {},
   "outputs": [],
   "source": [
    "from sklearn import datasets\n",
    "import numpy as np\n",
    "import matplotlib.pyplot as plt "
   ]
  },
  {
   "cell_type": "code",
   "execution_count": null,
   "id": "7937e7d8-7c37-40a2-93c2-cc121eef5163",
   "metadata": {},
   "outputs": [],
   "source": [
    "# Load the dataset\n",
    "digits = datasets.load_digits()\n",
    "# print(digits.DESCR)\n",
    "# print(data)\n",
    "# print(digits.data)\n",
    "\n",
    "# Load the dataset to get x and y\n",
    "# YOUR CODE HERE (Get data and target)\n",
    "\n",
    "# Visualize a sample digit\n",
    "plt.figure(figsize=(6, 6))\n",
    "plt.imshow(X[33].reshape(8, 8), cmap=\"Greys\") # The input x\n",
    "plt.title(f\"Digit: {y[33]}\")                  # The output label y\n",
    "plt.axis('off')\n",
    "plt.show()"
   ]
  },
  {
   "cell_type": "code",
   "execution_count": null,
   "id": "c9cde1d8-83ed-4dd0-9978-703809b1b63a",
   "metadata": {},
   "outputs": [],
   "source": [
    "from sklearn.model_selection import train_test_split\n",
    "# Split the data into training (80%) and testing sets (20%) \n",
    "# YOUR CODE HERE\n",
    "print(y_train.shape, y_test.shape)"
   ]
  },
  {
   "cell_type": "code",
   "execution_count": null,
   "id": "a4c99a70-6f82-4e69-bce0-40115d7e3514",
   "metadata": {},
   "outputs": [],
   "source": [
    "from sklearn import svm\n",
    "# Create a SVM classifier with rbf kernal and Regularization parameter = 1\n",
    "# YOUR CODE HERE"
   ]
  },
  {
   "cell_type": "code",
   "execution_count": null,
   "id": "7eb81194-38b7-4eb1-be44-47316d55c10e",
   "metadata": {},
   "outputs": [],
   "source": [
    "# \"Train/fit the model on the training data\"\n",
    "# YOUR CODE HERE"
   ]
  },
  {
   "cell_type": "code",
   "execution_count": null,
   "id": "38a0b1c1-18b2-4360-821a-e44eca8d8874",
   "metadata": {},
   "outputs": [],
   "source": [
    "# Evaluate the model\n",
    "from sklearn.metrics import classification_report\n",
    "\n",
    "# \"Evaluate the model on the test data\"\n",
    "# YOUR CODE HERE\n",
    "\n",
    "print(classification_report(y_test, y_pred))"
   ]
  },
  {
   "cell_type": "code",
   "execution_count": null,
   "id": "fd78014a-1dd0-418e-8633-3d43a5ed0434",
   "metadata": {},
   "outputs": [],
   "source": [
    "# Visualize the predicted digit\n",
    "sample_digit = X_test[0]\n",
    "prediction = clf.predict([sample_digit])\n",
    "plt.figure(figsize=(6, 6))\n",
    "plt.imshow(X_test[0].reshape(8, 8), cmap=\"Greys\")\n",
    "plt.title(f\"Predicted Digit: {prediction[0]}\")\n",
    "plt.axis('off')\n",
    "plt.show()"
   ]
  },
  {
   "cell_type": "code",
   "execution_count": null,
   "id": "8ca71f84-b015-4c32-94a6-29a5878e639c",
   "metadata": {},
   "outputs": [],
   "source": []
  }
 ],
 "metadata": {
  "kernelspec": {
   "display_name": "Python 3 (ipykernel)",
   "language": "python",
   "name": "python3"
  },
  "language_info": {
   "codemirror_mode": {
    "name": "ipython",
    "version": 3
   },
   "file_extension": ".py",
   "mimetype": "text/x-python",
   "name": "python",
   "nbconvert_exporter": "python",
   "pygments_lexer": "ipython3",
   "version": "3.12.4"
  }
 },
 "nbformat": 4,
 "nbformat_minor": 5
}
