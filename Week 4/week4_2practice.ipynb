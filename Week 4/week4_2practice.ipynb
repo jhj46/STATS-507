{
 "cells": [
  {
   "cell_type": "markdown",
   "metadata": {
    "colab_type": "text",
    "deletable": false,
    "editable": true,
    "id": "ck4jLznJiooB",
    "nbgrader": {
     "cell_type": "markdown",
     "checksum": "38b4cbfd496d80940cfa87c97061e3be",
     "grade": false,
     "grade_id": "cell-b1db85bf05a65a79",
     "locked": true,
     "schema_version": 3,
     "solution": false,
     "task": false
    },
    "slideshow": {
     "slide_type": ""
    },
    "tags": []
   },
   "source": [
    "### Lecture 4-2 Practice: Creating our own iterator."
   ]
  },
  {
   "cell_type": "markdown",
   "metadata": {
    "colab_type": "text",
    "deletable": false,
    "editable": true,
    "id": "7e5PDMTdlnhr",
    "nbgrader": {
     "cell_type": "markdown",
     "checksum": "028c604f7c4a6b0fd489eb9063fb71bd",
     "grade": false,
     "grade_id": "cell-473f900194560999",
     "locked": true,
     "schema_version": 3,
     "solution": false,
     "task": false
    },
    "slideshow": {
     "slide_type": ""
    },
    "tags": []
   },
   "source": [
    "### Question 1\n",
    "Implement a custom range iterator class called MyRange that mimics some of the basic functionality of Python's built-in range() function. This exercise will help you understand how iterators work in Python.\n",
    "\n",
    "1. Create a class named MyRange that takes two integer arguments in its constructor:\n",
    "start: the first value of the range\n",
    "end: the value to stop before (exclusive)\n",
    "\n",
    "2. The class should implement the iterator protocol, making it usable in a for loop.\n",
    "\n",
    "3. Each iteration should return the next integer in the sequence, starting from start and incrementing by 1 each time.\n",
    "The iteration should stop when the value would become equal to or greater than end."
   ]
  },
  {
   "cell_type": "code",
   "execution_count": 19,
   "metadata": {
    "deletable": false,
    "slideshow": {
     "slide_type": ""
    },
    "tags": []
   },
   "outputs": [],
   "source": [
    "class MyRange:\n",
    "    # YOUR CODE HERE\n",
    "    def __init__ (self,start,end):\n",
    "        self.value =start\n",
    "        self.end =end\n",
    "    def __next__(self):\n",
    "        if self.value == self.end:\n",
    "            raise StopIteration\n",
    "        current = self.value\n",
    "        self.value +=1\n",
    "        return current\n",
    "    def __iter__(self):\n",
    "        return self"
   ]
  },
  {
   "cell_type": "code",
   "execution_count": 21,
   "metadata": {
    "editable": true,
    "slideshow": {
     "slide_type": ""
    },
    "tags": []
   },
   "outputs": [
    {
     "name": "stdout",
     "output_type": "stream",
     "text": [
      "1\n",
      "2\n",
      "3\n",
      "4\n"
     ]
    }
   ],
   "source": [
    "# MyRange should work as an iterator\n",
    "nums = MyRange(1, 5)\n",
    "for num in nums:\n",
    "    print(num)"
   ]
  },
  {
   "cell_type": "code",
   "execution_count": 23,
   "metadata": {},
   "outputs": [
    {
     "name": "stdout",
     "output_type": "stream",
     "text": [
      "1\n",
      "2\n",
      "3\n",
      "4\n"
     ]
    }
   ],
   "source": [
    "nums = MyRange(1, 5)\n",
    "print(next(nums))\n",
    "print(next(nums))\n",
    "print(next(nums))\n",
    "print(next(nums))"
   ]
  },
  {
   "cell_type": "markdown",
   "metadata": {
    "colab_type": "text",
    "editable": true,
    "id": "7e5PDMTdlnhr",
    "nbgrader": {
     "cell_type": "markdown",
     "checksum": "028c604f7c4a6b0fd489eb9063fb71bd",
     "grade": false,
     "grade_id": "cell-473f900194560999",
     "locked": true,
     "schema_version": 3,
     "solution": false,
     "task": false
    },
    "slideshow": {
     "slide_type": ""
    },
    "tags": []
   },
   "source": [
    "### Question 2\n",
    "Create the same custom iterators in Python using generator-based approach."
   ]
  },
  {
   "cell_type": "code",
   "execution_count": 26,
   "metadata": {},
   "outputs": [
    {
     "ename": "NameError",
     "evalue": "name 'my_range' is not defined",
     "output_type": "error",
     "traceback": [
      "\u001b[1;31m---------------------------------------------------------------------------\u001b[0m",
      "\u001b[1;31mNameError\u001b[0m                                 Traceback (most recent call last)",
      "Cell \u001b[1;32mIn[26], line 1\u001b[0m\n\u001b[1;32m----> 1\u001b[0m nums \u001b[38;5;241m=\u001b[39m my_range(\u001b[38;5;241m1\u001b[39m, \u001b[38;5;241m5\u001b[39m)\n\u001b[0;32m      2\u001b[0m \u001b[38;5;28;01mfor\u001b[39;00m num \u001b[38;5;129;01min\u001b[39;00m nums:\n\u001b[0;32m      3\u001b[0m     \u001b[38;5;28mprint\u001b[39m(num)\n",
      "\u001b[1;31mNameError\u001b[0m: name 'my_range' is not defined"
     ]
    }
   ],
   "source": [
    "nums = my_range(1, 5)\n",
    "for num in nums:\n",
    "    print(num)"
   ]
  },
  {
   "cell_type": "code",
   "execution_count": null,
   "metadata": {},
   "outputs": [],
   "source": [
    "nums = my_range(1, 5)\n",
    "print(next(nums))\n",
    "print(next(nums))\n",
    "print(next(nums))\n",
    "print(next(nums))"
   ]
  },
  {
   "cell_type": "code",
   "execution_count": null,
   "metadata": {},
   "outputs": [],
   "source": []
  }
 ],
 "metadata": {
  "colab": {
   "collapsed_sections": [],
   "name": "Lecture 2 practice Solution.ipynb",
   "provenance": []
  },
  "kernelspec": {
   "display_name": "Python 3 (ipykernel)",
   "language": "python",
   "name": "python3"
  },
  "language_info": {
   "codemirror_mode": {
    "name": "ipython",
    "version": 3
   },
   "file_extension": ".py",
   "mimetype": "text/x-python",
   "name": "python",
   "nbconvert_exporter": "python",
   "pygments_lexer": "ipython3",
   "version": "3.12.4"
  }
 },
 "nbformat": 4,
 "nbformat_minor": 4
}
