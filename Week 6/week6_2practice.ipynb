{
 "cells": [
  {
   "cell_type": "markdown",
   "metadata": {
    "deletable": false,
    "nbgrader": {
     "checksum": "2b665f7a237c7a032c7952d218adb3e9",
     "grade": false,
     "grade_id": "cell-2eb7d743fa08f005",
     "locked": true,
     "schema_version": 3,
     "solution": false,
     "task": false
    }
   },
   "source": [
    "### Week 6 SciPy and Matlabplot Practice Problems (continued)"
   ]
  },
  {
   "cell_type": "code",
   "execution_count": 1,
   "metadata": {
    "deletable": false,
    "nbgrader": {
     "checksum": "4d81e32309a33c2ea6ee015f08fba0d3",
     "grade": false,
     "grade_id": "cell-17b047d8577e133c",
     "locked": true,
     "schema_version": 3,
     "solution": false,
     "task": false
    }
   },
   "outputs": [],
   "source": [
    "import numpy as np"
   ]
  },
  {
   "cell_type": "markdown",
   "metadata": {
    "deletable": false,
    "nbgrader": {
     "checksum": "b3d04b9d8f041cd36e9dba1b8222db72",
     "grade": false,
     "grade_id": "cell-7985f59c89695efa",
     "locked": true,
     "schema_version": 3,
     "solution": false,
     "task": false
    }
   },
   "source": [
    "### Problem 1\n",
    "In this exercise, you will use SciPy's optimization to find the minimum of a given function. You'll learn how to import the necessary modules from SciPy, define a function to optimize, and use SciPy's minimize function to find the optimal solution.\n",
    "\n",
    "1) Import the required module from SciPy for optimization.\n",
    "\n",
    "2) Define the following quadratic function: $f(x) = 2x^2 + 4x - 6$\n",
    "\n",
    "\n",
    "4) Use SciPy's optimization function to find the minimum of this function. ($x$ and $f(x)$). Note I have named a variable name `result`, you might want to use the same name.  \n",
    "\n",
    "\n",
    "*Hint*: Use scipy's `optimize.minimize` function. See https://docs.scipy.org/doc/scipy/reference/generated/scipy.optimize.minimize.html\n"
   ]
  },
  {
   "cell_type": "code",
   "execution_count": 7,
   "metadata": {
    "deletable": false,
    "nbgrader": {
     "checksum": "51d7177dfb8191f1bee1f3e65868410f",
     "grade": false,
     "grade_id": "cell-2466342b05a17106",
     "locked": false,
     "schema_version": 3,
     "solution": true,
     "task": false
    }
   },
   "outputs": [
    {
     "ename": "SyntaxError",
     "evalue": "invalid decimal literal (36724344.py, line 2)",
     "output_type": "error",
     "traceback": [
      "\u001b[1;36m  Cell \u001b[1;32mIn[7], line 2\u001b[1;36m\u001b[0m\n\u001b[1;33m    y = 2*x**2+4x-6\u001b[0m\n\u001b[1;37m               ^\u001b[0m\n\u001b[1;31mSyntaxError\u001b[0m\u001b[1;31m:\u001b[0m invalid decimal literal\n"
     ]
    }
   ],
   "source": [
    "import scipy as sp\n",
    "y = 2*x**2)+4x-6\n",
    "result = sp.optimize.minimize(y,x)"
   ]
  },
  {
   "cell_type": "code",
   "execution_count": null,
   "metadata": {},
   "outputs": [],
   "source": [
    "print(f\"Minimum found at x = {result.x[0]:.2f}, f(x) = {f(result.x[0]):.2f}\")"
   ]
  },
  {
   "cell_type": "code",
   "execution_count": null,
   "metadata": {},
   "outputs": [],
   "source": [
    "print(type(result))\n",
    "print(type(result.x))\n",
    "print(result)\n",
    "print(f\"Minimum found at x = {result.x[0]:.2f}, f(x) = {result.fun}\")"
   ]
  },
  {
   "cell_type": "markdown",
   "metadata": {},
   "source": [
    "### Problem 1.2\n",
    "What if I want to keep x within the range of [0.5, 1.5]. Can you resolve the problem?"
   ]
  },
  {
   "cell_type": "code",
   "execution_count": null,
   "metadata": {},
   "outputs": [],
   "source": [
    "# YOUR CODE HERE\n",
    "constraints = optimize.Rounds[0.5,1.5]\n",
    "print(f\"New Minimum found at x = {result.x[0]:.2f}, f(x) = {f(result.x[0]):.2f}\")"
   ]
  },
  {
   "cell_type": "markdown",
   "metadata": {},
   "source": [
    "### Problem 2 Matplotlib practice"
   ]
  },
  {
   "cell_type": "code",
   "execution_count": null,
   "metadata": {},
   "outputs": [],
   "source": [
    "import numpy as np\n",
    "import matplotlib.pyplot as plt\n",
    "from scipy.interpolate import CubicSpline, BSpline, make_interp_spline, interp1d\n",
    "\n",
    "# Create sample data\n",
    "x = np.array([0, 1, 2, 3, 4, 5])\n",
    "y = np.array([0, 2, 1, 3, 7, 4])\n",
    "\n",
    "# Create a finer x-axis for interpolation\n",
    "x_new = np.linspace(0, 5, 200)\n",
    "\n",
    "# Linear Interpolation (using interp1d for comparison, but note it's legacy)\n",
    "f_linear = interp1d(x, y, kind='linear')\n",
    "y_linear = f_linear(x_new)\n",
    "\n",
    "# Cubic Spline (using CubicSpline)\n",
    "cs = CubicSpline(x, y)\n",
    "y_cubic = cs(x_new)\n",
    "\n",
    "# B-Spline\n",
    "bs = make_interp_spline(x, y, k=3)  # k=3 for cubic B-spline\n",
    "y_bspline = bs(x_new)\n",
    "\n",
    "# Create a plot with \n",
    "# 1) Linear Interpolation, Cubic Spline,  B-Spline\n",
    "# 1) A title named Comparison of Modern Interpolation Methods, with fontsize=16\n",
    "# 2) x-axis: x\n",
    "# 3) y-axis: y\n",
    "# 4) Add legend with fontsize=12\n",
    "# 5) Add grid\n",
    "plt.figure(figsize=(12, 8))\n",
    "plt.plot(x, y, 'ro', label='Data points', markersize=10)\n",
    "# YOUR CODE HERE"
   ]
  },
  {
   "cell_type": "code",
   "execution_count": null,
   "metadata": {},
   "outputs": [],
   "source": []
  }
 ],
 "metadata": {
  "kernelspec": {
   "display_name": "Python 3 (ipykernel)",
   "language": "python",
   "name": "python3"
  },
  "language_info": {
   "codemirror_mode": {
    "name": "ipython",
    "version": 3
   },
   "file_extension": ".py",
   "mimetype": "text/x-python",
   "name": "python",
   "nbconvert_exporter": "python",
   "pygments_lexer": "ipython3",
   "version": "3.12.4"
  }
 },
 "nbformat": 4,
 "nbformat_minor": 4
}
