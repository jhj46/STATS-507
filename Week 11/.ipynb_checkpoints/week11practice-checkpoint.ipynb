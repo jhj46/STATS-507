{
 "cells": [
  {
   "cell_type": "markdown",
   "metadata": {
    "deletable": false,
    "nbgrader": {
     "cell_type": "markdown",
     "checksum": "7f0e9e4cd097eea26b9ee573887ebfb8",
     "grade": false,
     "grade_id": "cell-142eb68406c17bde",
     "locked": true,
     "schema_version": 3,
     "solution": false,
     "task": false
    }
   },
   "source": [
    "## Week 11 Practice"
   ]
  },
  {
   "cell_type": "markdown",
   "metadata": {
    "deletable": false,
    "editable": false,
    "nbgrader": {
     "cell_type": "markdown",
     "checksum": "af46d7acaf03c9f8f0cc75367d7eca4f",
     "grade": false,
     "grade_id": "cell-b4f848964553845a",
     "locked": true,
     "schema_version": 3,
     "solution": false,
     "task": false
    }
   },
   "source": [
    "### Problem 1: Implementing an objective function in NumPy and PyTorch\n",
    "Implement two Python functions that implements the mathematical functions $f(x) = 3x^\\intercal x - x_1 - 4$. One function should work for $x$ a `numpy.ndarray` and the other should work for $x$ a `torch.FloatTensor`."
   ]
  },
  {
   "cell_type": "code",
   "execution_count": 4,
   "metadata": {},
   "outputs": [
    {
     "name": "stdout",
     "output_type": "stream",
     "text": [
      "Collecting torch\n",
      "  Downloading torch-2.5.1-cp312-cp312-win_amd64.whl.metadata (28 kB)\n",
      "Requirement already satisfied: filelock in c:\\users\\jajung\\anaconda3\\lib\\site-packages (from torch) (3.13.1)\n",
      "Requirement already satisfied: typing-extensions>=4.8.0 in c:\\users\\jajung\\anaconda3\\lib\\site-packages (from torch) (4.11.0)\n",
      "Requirement already satisfied: networkx in c:\\users\\jajung\\anaconda3\\lib\\site-packages (from torch) (3.2.1)\n",
      "Requirement already satisfied: jinja2 in c:\\users\\jajung\\anaconda3\\lib\\site-packages (from torch) (3.1.4)\n",
      "Requirement already satisfied: fsspec in c:\\users\\jajung\\anaconda3\\lib\\site-packages (from torch) (2024.3.1)\n",
      "Requirement already satisfied: setuptools in c:\\users\\jajung\\anaconda3\\lib\\site-packages (from torch) (69.5.1)\n",
      "Collecting sympy==1.13.1 (from torch)\n",
      "  Downloading sympy-1.13.1-py3-none-any.whl.metadata (12 kB)\n",
      "Requirement already satisfied: mpmath<1.4,>=1.1.0 in c:\\users\\jajung\\anaconda3\\lib\\site-packages (from sympy==1.13.1->torch) (1.3.0)\n",
      "Requirement already satisfied: MarkupSafe>=2.0 in c:\\users\\jajung\\anaconda3\\lib\\site-packages (from jinja2->torch) (2.1.3)\n",
      "Downloading torch-2.5.1-cp312-cp312-win_amd64.whl (203.0 MB)\n",
      "   ---------------------------------------- 0.0/203.0 MB ? eta -:--:--\n",
      "   ---------------------------------------- 0.3/203.0 MB 9.9 MB/s eta 0:00:21\n",
      "   ---------------------------------------- 1.7/203.0 MB 21.8 MB/s eta 0:00:10\n",
      "    --------------------------------------- 3.5/203.0 MB 24.9 MB/s eta 0:00:09\n",
      "   - -------------------------------------- 5.4/203.0 MB 31.4 MB/s eta 0:00:07\n",
      "   - -------------------------------------- 6.9/203.0 MB 29.4 MB/s eta 0:00:07\n",
      "   - -------------------------------------- 8.7/203.0 MB 30.9 MB/s eta 0:00:07\n",
      "   -- ------------------------------------- 10.4/203.0 MB 36.4 MB/s eta 0:00:06\n",
      "   -- ------------------------------------- 11.9/203.0 MB 34.4 MB/s eta 0:00:06\n",
      "   -- ------------------------------------- 13.0/203.0 MB 34.4 MB/s eta 0:00:06\n",
      "   -- ------------------------------------- 14.1/203.0 MB 32.7 MB/s eta 0:00:06\n",
      "   --- ------------------------------------ 15.7/203.0 MB 32.7 MB/s eta 0:00:06\n",
      "   --- ------------------------------------ 17.6/203.0 MB 31.2 MB/s eta 0:00:06\n",
      "   --- ------------------------------------ 19.2/203.0 MB 32.8 MB/s eta 0:00:06\n",
      "   ---- ----------------------------------- 20.7/203.0 MB 32.8 MB/s eta 0:00:06\n",
      "   ---- ----------------------------------- 22.2/203.0 MB 32.8 MB/s eta 0:00:06\n",
      "   ---- ----------------------------------- 24.1/203.0 MB 36.4 MB/s eta 0:00:05\n",
      "   ----- ---------------------------------- 25.9/203.0 MB 36.3 MB/s eta 0:00:05\n",
      "   ----- ---------------------------------- 27.5/203.0 MB 36.4 MB/s eta 0:00:05\n",
      "   ----- ---------------------------------- 29.3/203.0 MB 36.3 MB/s eta 0:00:05\n",
      "   ------ --------------------------------- 30.6/203.0 MB 36.3 MB/s eta 0:00:05\n",
      "   ------ --------------------------------- 32.6/203.0 MB 38.6 MB/s eta 0:00:05\n",
      "   ------ --------------------------------- 34.4/203.0 MB 38.6 MB/s eta 0:00:05\n",
      "   ------- -------------------------------- 36.7/203.0 MB 38.6 MB/s eta 0:00:05\n",
      "   ------- -------------------------------- 38.5/203.0 MB 40.9 MB/s eta 0:00:05\n",
      "   ------- -------------------------------- 40.4/203.0 MB 43.7 MB/s eta 0:00:04\n",
      "   -------- ------------------------------- 42.0/203.0 MB 40.9 MB/s eta 0:00:04\n",
      "   -------- ------------------------------- 43.8/203.0 MB 40.9 MB/s eta 0:00:04\n",
      "   -------- ------------------------------- 45.6/203.0 MB 40.9 MB/s eta 0:00:04\n",
      "   --------- ------------------------------ 47.3/203.0 MB 38.6 MB/s eta 0:00:05\n",
      "   --------- ------------------------------ 49.0/203.0 MB 38.6 MB/s eta 0:00:04\n",
      "   ---------- ----------------------------- 50.9/203.0 MB 38.6 MB/s eta 0:00:04\n",
      "   ---------- ----------------------------- 52.9/203.0 MB 38.5 MB/s eta 0:00:04\n",
      "   ---------- ----------------------------- 54.6/203.0 MB 38.5 MB/s eta 0:00:04\n",
      "   ---------- ----------------------------- 55.4/203.0 MB 34.4 MB/s eta 0:00:05\n",
      "   ---------- ----------------------------- 55.8/203.0 MB 31.2 MB/s eta 0:00:05\n",
      "   ----------- ---------------------------- 58.1/203.0 MB 34.4 MB/s eta 0:00:05\n",
      "   ----------- ---------------------------- 59.8/203.0 MB 34.6 MB/s eta 0:00:05\n",
      "   ------------ --------------------------- 61.9/203.0 MB 34.4 MB/s eta 0:00:05\n",
      "   ------------ --------------------------- 63.7/203.0 MB 34.4 MB/s eta 0:00:05\n",
      "   ------------ --------------------------- 65.3/203.0 MB 34.4 MB/s eta 0:00:04\n",
      "   ------------- -------------------------- 66.5/203.0 MB 38.5 MB/s eta 0:00:04\n",
      "   ------------- -------------------------- 68.3/203.0 MB 36.4 MB/s eta 0:00:04\n",
      "   ------------- -------------------------- 70.3/203.0 MB 38.5 MB/s eta 0:00:04\n",
      "   -------------- ------------------------- 72.1/203.0 MB 36.3 MB/s eta 0:00:04\n",
      "   -------------- ------------------------- 73.7/203.0 MB 36.4 MB/s eta 0:00:04\n",
      "   -------------- ------------------------- 75.6/203.0 MB 38.6 MB/s eta 0:00:04\n",
      "   --------------- ------------------------ 77.3/203.0 MB 38.6 MB/s eta 0:00:04\n",
      "   --------------- ------------------------ 78.9/203.0 MB 38.5 MB/s eta 0:00:04\n",
      "   --------------- ------------------------ 80.9/203.0 MB 38.5 MB/s eta 0:00:04\n",
      "   ---------------- ----------------------- 82.8/203.0 MB 38.5 MB/s eta 0:00:04\n",
      "   ---------------- ----------------------- 84.6/203.0 MB 38.5 MB/s eta 0:00:04\n",
      "   ----------------- ---------------------- 86.6/203.0 MB 38.5 MB/s eta 0:00:04\n",
      "   ----------------- ---------------------- 88.5/203.0 MB 40.9 MB/s eta 0:00:03\n",
      "   ----------------- ---------------------- 90.2/203.0 MB 40.9 MB/s eta 0:00:03\n",
      "   ----------------- ---------------------- 90.5/203.0 MB 34.4 MB/s eta 0:00:04\n",
      "   ------------------ --------------------- 92.1/203.0 MB 34.4 MB/s eta 0:00:04\n",
      "   ------------------ --------------------- 93.8/203.0 MB 32.7 MB/s eta 0:00:04\n",
      "   ------------------ --------------------- 95.4/203.0 MB 32.7 MB/s eta 0:00:04\n",
      "   ------------------- -------------------- 96.9/203.0 MB 31.2 MB/s eta 0:00:04\n",
      "   ------------------- -------------------- 98.6/203.0 MB 31.1 MB/s eta 0:00:04\n",
      "   ------------------- ------------------- 100.1/203.0 MB 31.2 MB/s eta 0:00:04\n",
      "   ------------------- ------------------- 102.0/203.0 MB 34.4 MB/s eta 0:00:03\n",
      "   ------------------- ------------------- 103.4/203.0 MB 34.4 MB/s eta 0:00:03\n",
      "   -------------------- ------------------ 105.2/203.0 MB 34.4 MB/s eta 0:00:03\n",
      "   -------------------- ------------------ 106.6/203.0 MB 34.4 MB/s eta 0:00:03\n",
      "   -------------------- ------------------ 108.0/203.0 MB 32.7 MB/s eta 0:00:03\n",
      "   --------------------- ----------------- 109.5/203.0 MB 32.7 MB/s eta 0:00:03\n",
      "   --------------------- ----------------- 110.8/203.0 MB 32.7 MB/s eta 0:00:03\n",
      "   --------------------- ----------------- 112.2/203.0 MB 31.2 MB/s eta 0:00:03\n",
      "   --------------------- ----------------- 113.9/203.0 MB 34.4 MB/s eta 0:00:03\n",
      "   ---------------------- ---------------- 115.5/203.0 MB 31.2 MB/s eta 0:00:03\n",
      "   ---------------------- ---------------- 117.4/203.0 MB 32.8 MB/s eta 0:00:03\n",
      "   ---------------------- ---------------- 119.1/203.0 MB 34.4 MB/s eta 0:00:03\n",
      "   ----------------------- --------------- 120.5/203.0 MB 34.4 MB/s eta 0:00:03\n",
      "   ----------------------- --------------- 122.3/203.0 MB 34.4 MB/s eta 0:00:03\n",
      "   ----------------------- --------------- 124.0/203.0 MB 34.4 MB/s eta 0:00:03\n",
      "   ------------------------ -------------- 125.6/203.0 MB 34.6 MB/s eta 0:00:03\n",
      "   ------------------------ -------------- 126.8/203.0 MB 34.4 MB/s eta 0:00:03\n",
      "   ------------------------ -------------- 127.6/203.0 MB 32.7 MB/s eta 0:00:03\n",
      "   ------------------------ -------------- 128.2/203.0 MB 29.8 MB/s eta 0:00:03\n",
      "   ------------------------ -------------- 128.9/203.0 MB 26.2 MB/s eta 0:00:03\n",
      "   ------------------------- ------------- 130.4/203.0 MB 26.2 MB/s eta 0:00:03\n",
      "   ------------------------- ------------- 132.0/203.0 MB 26.2 MB/s eta 0:00:03\n",
      "   ------------------------- ------------- 133.4/203.0 MB 25.1 MB/s eta 0:00:03\n",
      "   ------------------------- ------------- 134.9/203.0 MB 25.2 MB/s eta 0:00:03\n",
      "   -------------------------- ------------ 136.8/203.0 MB 26.2 MB/s eta 0:00:03\n",
      "   -------------------------- ------------ 138.4/203.0 MB 31.2 MB/s eta 0:00:03\n",
      "   -------------------------- ------------ 140.3/203.0 MB 34.4 MB/s eta 0:00:02\n",
      "   --------------------------- ----------- 142.0/203.0 MB 36.4 MB/s eta 0:00:02\n",
      "   --------------------------- ----------- 143.5/203.0 MB 36.4 MB/s eta 0:00:02\n",
      "   --------------------------- ----------- 144.8/203.0 MB 34.4 MB/s eta 0:00:02\n",
      "   ---------------------------- ---------- 146.1/203.0 MB 32.7 MB/s eta 0:00:02\n",
      "   ---------------------------- ---------- 147.4/203.0 MB 32.8 MB/s eta 0:00:02\n",
      "   ---------------------------- ---------- 148.2/203.0 MB 29.8 MB/s eta 0:00:02\n",
      "   ---------------------------- ---------- 149.7/203.0 MB 29.7 MB/s eta 0:00:02\n",
      "   ----------------------------- --------- 151.1/203.0 MB 28.5 MB/s eta 0:00:02\n",
      "   ----------------------------- --------- 152.2/203.0 MB 27.3 MB/s eta 0:00:02\n",
      "   ----------------------------- --------- 153.8/203.0 MB 28.4 MB/s eta 0:00:02\n",
      "   ----------------------------- --------- 155.4/203.0 MB 28.4 MB/s eta 0:00:02\n",
      "   ------------------------------ -------- 156.9/203.0 MB 28.4 MB/s eta 0:00:02\n",
      "   ------------------------------ -------- 158.2/203.0 MB 29.8 MB/s eta 0:00:02\n",
      "   ------------------------------ -------- 159.0/203.0 MB 29.7 MB/s eta 0:00:02\n",
      "   ------------------------------ -------- 160.1/203.0 MB 28.5 MB/s eta 0:00:02\n",
      "   ------------------------------- ------- 161.8/203.0 MB 28.5 MB/s eta 0:00:02\n",
      "   ------------------------------- ------- 163.4/203.0 MB 29.7 MB/s eta 0:00:02\n",
      "   ------------------------------- ------- 165.1/203.0 MB 29.7 MB/s eta 0:00:02\n",
      "   -------------------------------- ------ 166.7/203.0 MB 29.7 MB/s eta 0:00:02\n",
      "   -------------------------------- ------ 168.2/203.0 MB 31.1 MB/s eta 0:00:02\n",
      "   -------------------------------- ------ 169.4/203.0 MB 32.8 MB/s eta 0:00:02\n",
      "   -------------------------------- ------ 170.8/203.0 MB 32.8 MB/s eta 0:00:01\n",
      "   --------------------------------- ----- 172.2/203.0 MB 31.2 MB/s eta 0:00:01\n",
      "   --------------------------------- ----- 173.0/203.0 MB 29.7 MB/s eta 0:00:02\n",
      "   --------------------------------- ----- 174.0/203.0 MB 28.5 MB/s eta 0:00:02\n",
      "   --------------------------------- ----- 174.9/203.0 MB 26.2 MB/s eta 0:00:02\n",
      "   --------------------------------- ----- 176.3/203.0 MB 26.2 MB/s eta 0:00:02\n",
      "   ---------------------------------- ---- 177.8/203.0 MB 25.1 MB/s eta 0:00:02\n",
      "   ---------------------------------- ---- 179.5/203.0 MB 27.3 MB/s eta 0:00:01\n",
      "   ---------------------------------- ---- 180.8/203.0 MB 27.3 MB/s eta 0:00:01\n",
      "   ---------------------------------- ---- 182.2/203.0 MB 26.2 MB/s eta 0:00:01\n",
      "   ----------------------------------- --- 183.8/203.0 MB 29.7 MB/s eta 0:00:01\n",
      "   ----------------------------------- --- 185.5/203.0 MB 31.2 MB/s eta 0:00:01\n",
      "   ----------------------------------- --- 187.0/203.0 MB 32.7 MB/s eta 0:00:01\n",
      "   ------------------------------------ -- 188.8/203.0 MB 32.7 MB/s eta 0:00:01\n",
      "   ------------------------------------ -- 190.6/203.0 MB 34.4 MB/s eta 0:00:01\n",
      "   ------------------------------------ -- 192.5/203.0 MB 36.4 MB/s eta 0:00:01\n",
      "   ------------------------------------- - 193.5/203.0 MB 34.4 MB/s eta 0:00:01\n",
      "   ------------------------------------- - 194.7/203.0 MB 32.8 MB/s eta 0:00:01\n",
      "   ------------------------------------- - 196.1/203.0 MB 32.8 MB/s eta 0:00:01\n",
      "   ------------------------------------- - 196.9/203.0 MB 31.2 MB/s eta 0:00:01\n",
      "   --------------------------------------  198.4/203.0 MB 29.7 MB/s eta 0:00:01\n",
      "   --------------------------------------  199.9/203.0 MB 29.7 MB/s eta 0:00:01\n",
      "   --------------------------------------  201.5/203.0 MB 28.4 MB/s eta 0:00:01\n",
      "   --------------------------------------  203.0/203.0 MB 29.7 MB/s eta 0:00:01\n",
      "   --------------------------------------  203.0/203.0 MB 29.7 MB/s eta 0:00:01\n",
      "   --------------------------------------  203.0/203.0 MB 29.7 MB/s eta 0:00:01\n",
      "   --------------------------------------  203.0/203.0 MB 29.7 MB/s eta 0:00:01\n",
      "   --------------------------------------  203.0/203.0 MB 29.7 MB/s eta 0:00:01\n",
      "   --------------------------------------  203.0/203.0 MB 29.7 MB/s eta 0:00:01\n",
      "   --------------------------------------  203.0/203.0 MB 29.7 MB/s eta 0:00:01\n",
      "   --------------------------------------  203.0/203.0 MB 29.7 MB/s eta 0:00:01\n",
      "   --------------------------------------  203.0/203.0 MB 29.7 MB/s eta 0:00:01\n",
      "   --------------------------------------- 203.0/203.0 MB 13.4 MB/s eta 0:00:00\n",
      "Downloading sympy-1.13.1-py3-none-any.whl (6.2 MB)\n",
      "   ---------------------------------------- 0.0/6.2 MB ? eta -:--:--\n",
      "   ------------- -------------------------- 2.1/6.2 MB 45.1 MB/s eta 0:00:01\n",
      "   ------------------------- -------------- 4.0/6.2 MB 41.9 MB/s eta 0:00:01\n",
      "   ------------------------------------ --- 5.6/6.2 MB 39.9 MB/s eta 0:00:01\n",
      "   ---------------------------------------- 6.2/6.2 MB 33.0 MB/s eta 0:00:00\n",
      "Installing collected packages: sympy, torch\n",
      "  Attempting uninstall: sympy\n",
      "    Found existing installation: sympy 1.12\n",
      "    Uninstalling sympy-1.12:\n",
      "      Successfully uninstalled sympy-1.12\n",
      "Successfully installed sympy-1.13.1 torch-2.5.1\n",
      "Note: you may need to restart the kernel to use updated packages.\n"
     ]
    }
   ],
   "source": [
    "pip install torch"
   ]
  },
  {
   "cell_type": "code",
   "execution_count": 10,
   "metadata": {
    "deletable": false,
    "nbgrader": {
     "cell_type": "code",
     "checksum": "8e0b6b47664be091903b36d15dd2dd55",
     "grade": false,
     "grade_id": "cell-182a74ac56520133",
     "locked": false,
     "schema_version": 3,
     "solution": true,
     "task": false
    }
   },
   "outputs": [],
   "source": [
    "import torch\n",
    "import numpy as np\n",
    "\n",
    "\n",
    "def f_numpy(x):\n",
    "    # YOUR CODE HERE\n",
    "    return 3*np.dot(x,x)-x[0]-4\n",
    "\n",
    "\n",
    "def f_torch(x):\n",
    "    # YOUR CODE HERE\n",
    "    return 3* torch.dot(x,x)-x[0]-4\n"
   ]
  },
  {
   "cell_type": "code",
   "execution_count": 12,
   "metadata": {
    "deletable": false,
    "editable": false,
    "nbgrader": {
     "cell_type": "code",
     "checksum": "79d3784e218d88f020e401dba8892966",
     "grade": true,
     "grade_id": "cell-e1c4981cbc9d429f",
     "locked": true,
     "points": 1,
     "schema_version": 3,
     "solution": false,
     "task": false
    }
   },
   "outputs": [],
   "source": [
    "assert abs(f_numpy(np.zeros(4)) + 4) < 1e-6\n",
    "assert abs(f_numpy(np.ones(2)) - 1) < 1e-6\n",
    "\n",
    "assert abs(f_torch(torch.zeros(4)) + 4) < 1e-6\n",
    "assert abs(f_torch(torch.ones(2)) - 1) < 1e-6\n",
    "\n",
    "x0 = (1, -2, 3, 4, 5)\n",
    "assert abs(f_numpy(np.array(x0)) - f_torch(torch.Tensor(x0))) < 1e-6"
   ]
  },
  {
   "cell_type": "markdown",
   "metadata": {
    "deletable": false,
    "editable": false,
    "nbgrader": {
     "cell_type": "markdown",
     "checksum": "fd0de5c4ef42e55ac7143b61c51034df",
     "grade": false,
     "grade_id": "cell-336788388c9fb151",
     "locked": true,
     "schema_version": 3,
     "solution": false,
     "task": false
    }
   },
   "source": [
    "### Problem 2: Computing gradients manually and automatically\n",
    "Implement functions to compute the gradient of $f$ at $x$ using numpy and PyTorch. Use autodiff for the latter."
   ]
  },
  {
   "cell_type": "code",
   "execution_count": 14,
   "metadata": {
    "deletable": false,
    "nbgrader": {
     "cell_type": "code",
     "checksum": "aba0ede5b1590bb67e8e425ac1c81202",
     "grade": false,
     "grade_id": "cell-fb660c996d6b60a5",
     "locked": false,
     "schema_version": 3,
     "solution": true,
     "task": false
    }
   },
   "outputs": [],
   "source": [
    "def f_grad_numpy(x):\n",
    "    # YOUR CODE HERE\n",
    "    gradient = 6 * x\n",
    "    gradient[0] -=1\n",
    "    return gradient\n",
    "\n",
    "\n",
    "def f_grad_torch(x):\n",
    "    # YOUR CODE HERE\n",
    "    f_x = 3 * torch.dot(x,x) -x[0]-4\n",
    "    gradient = torch.autograd.grad(f_x,x)[0]\n",
    "    print(\"Gradient\", gradient)\n",
    "    return gradient"
   ]
  },
  {
   "cell_type": "code",
   "execution_count": 16,
   "metadata": {
    "deletable": false,
    "editable": false,
    "nbgrader": {
     "cell_type": "code",
     "checksum": "213c40607b7d7239eb81dacac235423b",
     "grade": true,
     "grade_id": "cell-27382f3ccab6772b",
     "locked": true,
     "points": 1,
     "schema_version": 3,
     "solution": false,
     "task": false
    }
   },
   "outputs": [
    {
     "name": "stdout",
     "output_type": "stream",
     "text": [
      "Gradient tensor([5., 6.], dtype=torch.float64)\n"
     ]
    }
   ],
   "source": [
    "def finite_diff(x, v):\n",
    "    return (f_numpy(x + v) - f_numpy(x - v)) / (2 * np.linalg.norm(v))\n",
    "\n",
    "\n",
    "x = np.ones(2)\n",
    "v0 = 1e-4 * np.array([1, 0])\n",
    "assert abs(finite_diff(x, v0) - f_grad_numpy(x)[0]) < 1e-2\n",
    "v1 = 1e-4 * np.array([0, 1])\n",
    "assert abs(finite_diff(x, v1) - f_grad_numpy(x)[1]) < 1e-2\n",
    "\n",
    "np.random.seed(42)\n",
    "for i in range(10):\n",
    "    x2 = np.random.randn(5)\n",
    "    v2 = np.random.randn(5)\n",
    "    v2 = v2 / np.linalg.norm(v2)\n",
    "    observed = finite_diff(x2, 1e-4 * v2)\n",
    "    derived_vec = f_grad_numpy(x2)\n",
    "    derived = derived_vec.dot(v2)\n",
    "    assert abs(observed - derived) < 1e-2\n",
    "\n",
    "xt = torch.tensor(x, requires_grad=True)\n",
    "diff = f_grad_torch(xt).numpy() - f_grad_numpy(x)\n",
    "assert np.linalg.norm(diff) < 1e-6"
   ]
  },
  {
   "cell_type": "code",
   "execution_count": null,
   "metadata": {},
   "outputs": [],
   "source": []
  }
 ],
 "metadata": {
  "kernelspec": {
   "display_name": "Python 3 (ipykernel)",
   "language": "python",
   "name": "python3"
  },
  "language_info": {
   "codemirror_mode": {
    "name": "ipython",
    "version": 3
   },
   "file_extension": ".py",
   "mimetype": "text/x-python",
   "name": "python",
   "nbconvert_exporter": "python",
   "pygments_lexer": "ipython3",
   "version": "3.12.4"
  }
 },
 "nbformat": 4,
 "nbformat_minor": 4
}
