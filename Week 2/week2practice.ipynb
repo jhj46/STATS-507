{
 "cells": [
  {
   "cell_type": "markdown",
   "id": "a5dbb53f-8913-4905-900a-dac458aa6e46",
   "metadata": {},
   "source": [
    "# STATS 507, Week 2 practice"
   ]
  },
  {
   "cell_type": "markdown",
   "id": "cb5bdf8a-86f8-4b1b-95dd-2a0d0d673945",
   "metadata": {},
   "source": [
    "### Problem 1\n",
    "Write a Python function that takes a string as input and returns the reverse of that string using string slicing."
   ]
  },
  {
   "cell_type": "code",
   "execution_count": 5,
   "id": "f5da5422-ebad-457b-88b9-7d0d1f96622c",
   "metadata": {},
   "outputs": [
    {
     "name": "stdout",
     "output_type": "stream",
     "text": [
      "gnirts\n"
     ]
    }
   ],
   "source": [
    "def reverse_str_using_slicing(s):\n",
    "    # YOUR CODE HERE\n",
    "    \n",
    "    print(s[::-1])\n",
    "\n",
    "# expected 'gnirts'\n",
    "reverse_str_using_slicing(\"string\")"
   ]
  },
  {
   "cell_type": "markdown",
   "id": "c0626107-386e-4a7f-a60d-01f0932298fd",
   "metadata": {},
   "source": [
    "### Problem 2"
   ]
  },
  {
   "cell_type": "code",
   "execution_count": 9,
   "id": "5759eafa-afa5-4cc3-b616-1c4de3f386ec",
   "metadata": {},
   "outputs": [
    {
     "name": "stdout",
     "output_type": "stream",
     "text": [
      "spring\n"
     ]
    }
   ],
   "source": [
    "s = \"string\"\n",
    "# Modify the 2nd character of s such that s = \"spring\"\n",
    "# YOUR CODE here\n",
    "s=s[0]+\"p\"+s[2::1]\n",
    "print(s)"
   ]
  },
  {
   "cell_type": "markdown",
   "id": "04ac6273-0e85-4a81-b5e0-301fdf040418",
   "metadata": {},
   "source": [
    "### Two more things with string"
   ]
  },
  {
   "cell_type": "code",
   "execution_count": null,
   "id": "01bd2d32-d177-44f8-99e7-48429cd3e126",
   "metadata": {},
   "outputs": [],
   "source": [
    "s = \"Any string\"\n",
    "# Can we see what operation methods are avaible for varibale s?\n",
    "print(dir(s))"
   ]
  },
  {
   "cell_type": "code",
   "execution_count": null,
   "id": "dda4dd33-4c05-445c-9afb-6439ec61ebc1",
   "metadata": {},
   "outputs": [],
   "source": [
    "# what if we want to see what we can do with string\n",
    "help(str.find)"
   ]
  },
  {
   "cell_type": "code",
   "execution_count": null,
   "id": "0e66981a-526a-4e64-b819-5f674554113b",
   "metadata": {},
   "outputs": [],
   "source": [
    "# Basic usage of find()\n",
    "text = \"Python is a great programming language\"\n",
    "# Find the first occurrence of a substring\n",
    "print(text.find(\"great\"))  # Output: 12\n",
    "\n",
    "# Find a substring that doesn't exist (returns -1)\n",
    "print(text.find(\"Java\"))  # Output: -1\n",
    "\n",
    "# Find with a starting index\n",
    "print(text.find(\"a\", 10))  # Output: 14\n",
    "\n",
    "# Find with both start and end indices\n",
    "print(text.find(\"a\", 15, 20))  # Output: 16"
   ]
  },
  {
   "cell_type": "markdown",
   "id": "b1f3f286-b0a8-4585-8ce3-4a1de44d55fe",
   "metadata": {},
   "source": [
    "### Problem 3\n",
    "\n",
    "Write a function named `sum_naturals_while` that takes one argument `n` and use a `while` loop to compute the sum of the first $n$ natural numbers (starting with $1$)."
   ]
  },
  {
   "cell_type": "code",
   "execution_count": null,
   "id": "72d0e461-8975-4fa8-856a-81831b84d9b1",
   "metadata": {},
   "outputs": [],
   "source": [
    "def sum_naturals_while(n):\n",
    "# YOUR CODE HERE\n",
    "raise NotImplementedError()"
   ]
  },
  {
   "cell_type": "code",
   "execution_count": null,
   "id": "2cb50efd-508d-49c4-94fe-2662b237d9c8",
   "metadata": {},
   "outputs": [],
   "source": [
    "assert sum_naturals_while(1) == 1\n",
    "assert sum_naturals_while(2) == 3\n",
    "assert sum_naturals_while(3) == 6"
   ]
  },
  {
   "cell_type": "markdown",
   "id": "0021a016-a80f-4dce-b30c-207e82262aa2",
   "metadata": {},
   "source": [
    "### Problem 4\n",
    "\n",
    "Write a function named `sum_naturals_recur` that takes one argument `n` and uses recursion to compute the sum of the first $n$ natural numbers (starting with $1$)."
   ]
  },
  {
   "cell_type": "code",
   "execution_count": null,
   "id": "caede500-8b97-4cad-b203-bf7c7b7b18c3",
   "metadata": {},
   "outputs": [],
   "source": [
    "def sum_naturals_recur(n):\n",
    "# YOUR CODE HERE\n",
    "# raise NotImplementedError()"
   ]
  },
  {
   "cell_type": "code",
   "execution_count": null,
   "id": "d15f633c-c9c9-4958-b0ff-10c19057bdb0",
   "metadata": {},
   "outputs": [],
   "source": [
    "assert sum_naturals_recur(1) == 1\n",
    "assert sum_naturals_recur(2) == 3\n",
    "assert sum_naturals_recur(3) == 6"
   ]
  }
 ],
 "metadata": {
  "kernelspec": {
   "display_name": "Python 3 (ipykernel)",
   "language": "python",
   "name": "python3"
  },
  "language_info": {
   "codemirror_mode": {
    "name": "ipython",
    "version": 3
   },
   "file_extension": ".py",
   "mimetype": "text/x-python",
   "name": "python",
   "nbconvert_exporter": "python",
   "pygments_lexer": "ipython3",
   "version": "3.12.4"
  }
 },
 "nbformat": 4,
 "nbformat_minor": 5
}
