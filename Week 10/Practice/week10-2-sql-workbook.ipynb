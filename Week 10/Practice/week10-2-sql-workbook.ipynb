{
 "cells": [
  {
   "cell_type": "markdown",
   "id": "00060f85",
   "metadata": {
    "id": "00060f85"
   },
   "source": [
    "\n",
    "## SQL exercises"
   ]
  },
  {
   "cell_type": "markdown",
   "id": "0415bee5",
   "metadata": {
    "id": "0415bee5"
   },
   "source": [
    "In this lecture we'll practice performing SQL queries using the Python SQLite module and the `flights` database:"
   ]
  },
  {
   "cell_type": "code",
   "execution_count": 2,
   "id": "db31de16",
   "metadata": {
    "executionInfo": {
     "elapsed": 154,
     "status": "ok",
     "timestamp": 1707324747243,
     "user": {
      "displayName": "Jayashree Ravi",
      "userId": "06933604785290521829"
     },
     "user_tz": 300
    },
    "id": "db31de16"
   },
   "outputs": [
    {
     "name": "stdout",
     "output_type": "stream",
     "text": [
      "\n",
      "Table: flights\n",
      "  year (INTEGER)\n",
      "  month (INTEGER)\n",
      "  day (INTEGER)\n",
      "  dep_time (INTEGER)\n",
      "  sched_dep_time (INTEGER)\n",
      "  dep_delay (REAL)\n",
      "  arr_time (INTEGER)\n",
      "  sched_arr_time (INTEGER)\n",
      "  arr_delay (REAL)\n",
      "  carrier (TEXT)\n",
      "  flight (INTEGER)\n",
      "  tailnum (TEXT)\n",
      "  origin (TEXT)\n",
      "  dest (TEXT)\n",
      "  air_time (REAL)\n",
      "  distance (REAL)\n",
      "  hour (REAL)\n",
      "  minute (REAL)\n",
      "  time_hour (REAL)\n",
      "\n",
      "Table: airports\n",
      "  faa (TEXT)\n",
      "  name (TEXT)\n",
      "  lat (REAL)\n",
      "  lon (REAL)\n",
      "  alt (REAL)\n",
      "  tz (REAL)\n",
      "  dst (TEXT)\n",
      "  tzone (TEXT)\n",
      "\n",
      "Table: weather\n",
      "  origin (TEXT)\n",
      "  year (INTEGER)\n",
      "  month (INTEGER)\n",
      "  day (INTEGER)\n",
      "  hour (INTEGER)\n",
      "  temp (REAL)\n",
      "  dewp (REAL)\n",
      "  humid (REAL)\n",
      "  wind_dir (REAL)\n",
      "  wind_speed (REAL)\n",
      "  wind_gust (REAL)\n",
      "  precip (REAL)\n",
      "  pressure (REAL)\n",
      "  visib (REAL)\n",
      "  time_hour (REAL)\n",
      "\n",
      "Table: airlines\n",
      "  carrier (TEXT)\n",
      "  name (TEXT)\n"
     ]
    }
   ],
   "source": [
    "import sqlite3\n",
    "con = sqlite3.connect(\"flights.sqlite\")\n",
    "cur = con.cursor()\n",
    "\n",
    "# Get the list of tables\n",
    "cur.execute(\"SELECT name FROM sqlite_master WHERE type='table';\")\n",
    "tables = cur.fetchall()\n",
    "# For each table, get its schema\n",
    "for table in tables:\n",
    "    table_name = table[0]\n",
    "    print(f\"\\nTable: {table_name}\")\n",
    "    cur.execute(f\"PRAGMA table_info({table_name});\")\n",
    "    columns = cur.fetchall()\n",
    "    for col in columns:\n",
    "        print(f\"  {col[1]} ({col[2]})\")"
   ]
  },
  {
   "cell_type": "code",
   "execution_count": 4,
   "id": "80194acf-79f5-4dfa-a55a-a0e8e962a07e",
   "metadata": {},
   "outputs": [
    {
     "name": "stdout",
     "output_type": "stream",
     "text": [
      "AIRLINES TABLE:\n",
      "   carrier                         name\n",
      "0       9E            Endeavor Air Inc.\n",
      "1       AA       American Airlines Inc.\n",
      "2       AS         Alaska Airlines Inc.\n",
      "3       B6              JetBlue Airways\n",
      "4       DL         Delta Air Lines Inc.\n",
      "5       EV     ExpressJet Airlines Inc.\n",
      "6       F9       Frontier Airlines Inc.\n",
      "7       FL  AirTran Airways Corporation\n",
      "8       HA       Hawaiian Airlines Inc.\n",
      "9       MQ                    Envoy Air\n",
      "10      OO        SkyWest Airlines Inc.\n",
      "11      UA        United Air Lines Inc.\n",
      "12      US              US Airways Inc.\n",
      "13      VX               Virgin America\n",
      "14      WN       Southwest Airlines Co.\n",
      "15      YV           Mesa Airlines Inc.\n",
      "\n",
      "==================================================\n",
      "\n",
      "AIRPORTS TABLE:\n",
      "      faa                           name        lat         lon     alt   tz  \\\n",
      "0     04G              Lansdowne Airport  41.130472  -80.619583  1044.0 -5.0   \n",
      "1     06A  Moton Field Municipal Airport  32.460572  -85.680028   264.0 -6.0   \n",
      "2     06C            Schaumburg Regional  41.989341  -88.101243   801.0 -6.0   \n",
      "3     06N                Randall Airport  41.431912  -74.391561   523.0 -5.0   \n",
      "4     09J          Jekyll Island Airport  31.074472  -81.427778    11.0 -5.0   \n",
      "...   ...                            ...        ...         ...     ...  ...   \n",
      "1453  ZUN                     Black Rock  35.083228 -108.791778  6454.0 -7.0   \n",
      "1454  ZVE         New Haven Rail Station  41.298669  -72.925992     7.0 -5.0   \n",
      "1455  ZWI      Wilmington Amtrak Station  39.736667  -75.551667     0.0 -5.0   \n",
      "1456  ZWU       Washington Union Station  38.897460  -77.006430    76.0 -5.0   \n",
      "1457  ZYP                   Penn Station  40.750500  -73.993500    35.0 -5.0   \n",
      "\n",
      "     dst             tzone  \n",
      "0      A  America/New_York  \n",
      "1      A   America/Chicago  \n",
      "2      A   America/Chicago  \n",
      "3      A  America/New_York  \n",
      "4      A  America/New_York  \n",
      "...   ..               ...  \n",
      "1453   A    America/Denver  \n",
      "1454   A  America/New_York  \n",
      "1455   A  America/New_York  \n",
      "1456   A  America/New_York  \n",
      "1457   A  America/New_York  \n",
      "\n",
      "[1458 rows x 8 columns]\n",
      "\n",
      "==================================================\n",
      "\n",
      "FLIGHTS TABLE (Sample):\n",
      "   year  month  day carrier  flight origin dest  dep_time  arr_time  \\\n",
      "0  2013      1    1      UA    1545    EWR  IAH       517       830   \n",
      "1  2013      1    1      UA    1714    LGA  IAH       533       850   \n",
      "2  2013      1    1      AA    1141    JFK  MIA       542       923   \n",
      "3  2013      1    1      B6     725    JFK  BQN       544      1004   \n",
      "4  2013      1    1      DL     461    LGA  ATL       554       812   \n",
      "\n",
      "   dep_delay  arr_delay  \n",
      "0        2.0       11.0  \n",
      "1        4.0       20.0  \n",
      "2        2.0       33.0  \n",
      "3       -1.0      -18.0  \n",
      "4       -6.0      -25.0  \n",
      "\n",
      "==================================================\n",
      "\n",
      "WEATHER TABLE (Sample):\n",
      "  origin  year  month  day  hour   temp  wind_speed  wind_dir  precip  visib\n",
      "0    EWR  2013      1    1     1  39.02    10.35702     270.0     0.0   10.0\n",
      "1    EWR  2013      1    1     2  39.02     8.05546     250.0     0.0   10.0\n",
      "2    EWR  2013      1    1     3  39.02    11.50780     240.0     0.0   10.0\n",
      "3    EWR  2013      1    1     4  39.92    12.65858     250.0     0.0   10.0\n",
      "4    EWR  2013      1    1     5  39.02    12.65858     260.0     0.0   10.0\n"
     ]
    }
   ],
   "source": [
    "import pandas as pd\n",
    "# Visualize the tables using pandas\n",
    "# 1. Airlines table (carrier codes and full names)\n",
    "airlines_query = \"SELECT * FROM airlines\"\n",
    "airlines_df = pd.read_sql_query(airlines_query, con)\n",
    "print(\"AIRLINES TABLE:\")\n",
    "print(airlines_df)\n",
    "print(\"\\n\" + \"=\"*50 + \"\\n\")\n",
    "\n",
    "# 2. Airports table (airport information)\n",
    "airports_query = \"SELECT * FROM airports\"\n",
    "airports_df = pd.read_sql_query(airports_query, con)\n",
    "print(\"AIRPORTS TABLE:\")\n",
    "print(airports_df)\n",
    "print(\"\\n\" + \"=\"*50 + \"\\n\")\n",
    "\n",
    "# 3. Sample of flights table (it's usually too large to show all)\n",
    "flights_query = \"\"\"\n",
    "SELECT \n",
    "    year, month, day,\n",
    "    carrier, flight,\n",
    "    origin, dest,\n",
    "    dep_time, arr_time,\n",
    "    dep_delay, arr_delay\n",
    "FROM flights \n",
    "LIMIT 5\n",
    "\"\"\"\n",
    "flights_df = pd.read_sql_query(flights_query, con)\n",
    "print(\"FLIGHTS TABLE (Sample):\")\n",
    "print(flights_df)\n",
    "print(\"\\n\" + \"=\"*50 + \"\\n\")\n",
    "\n",
    "# 4. Sample of weather table\n",
    "weather_query = \"\"\"\n",
    "SELECT \n",
    "    origin, year, month, day, hour,\n",
    "    temp, wind_speed, wind_dir, precip, visib\n",
    "FROM weather \n",
    "LIMIT 5\n",
    "\"\"\"\n",
    "weather_df = pd.read_sql_query(weather_query, con)\n",
    "print(\"WEATHER TABLE (Sample):\")\n",
    "print(weather_df)"
   ]
  },
  {
   "cell_type": "markdown",
   "id": "0699e89e",
   "metadata": {
    "id": "0699e89e"
   },
   "source": [
    "### The `cursor` object\n",
    "The cursor object is used to perform queries and fetch results. `cur.execute(query)` will execute `query` and return a results object:"
   ]
  },
  {
   "cell_type": "markdown",
   "id": "a9bff225",
   "metadata": {
    "id": "a9bff225"
   },
   "source": [
    "### Fetching results\n",
    "To retrieve results, use the `cur.fetchone()` or `cur.fetchall()` methods:"
   ]
  },
  {
   "cell_type": "code",
   "execution_count": 12,
   "id": "7bb25bd0",
   "metadata": {
    "colab": {
     "base_uri": "https://localhost:8080/"
    },
    "executionInfo": {
     "elapsed": 133,
     "status": "ok",
     "timestamp": 1707325312540,
     "user": {
      "displayName": "Jayashree Ravi",
      "userId": "06933604785290521829"
     },
     "user_tz": 300
    },
    "id": "7bb25bd0",
    "outputId": "441f275b-bfaf-4528-ebf9-a177c191a194"
   },
   "outputs": [],
   "source": [
    "cur.fetchone()\n"
   ]
  },
  {
   "cell_type": "markdown",
   "id": "41cf4644",
   "metadata": {
    "id": "41cf4644"
   },
   "source": [
    "This returns a tuple containing one entry for each column in our `SELECT` statement."
   ]
  },
  {
   "cell_type": "markdown",
   "id": "a21dec25",
   "metadata": {
    "id": "a21dec25"
   },
   "source": [
    "If you want all the rows, use `cur.fetchall()`:"
   ]
  },
  {
   "cell_type": "markdown",
   "id": "e7e9d5e0",
   "metadata": {
    "id": "e7e9d5e0"
   },
   "source": [
    "### Parameterized queries"
   ]
  },
  {
   "cell_type": "markdown",
   "id": "e754d102",
   "metadata": {
    "id": "e754d102"
   },
   "source": [
    "Sometimes our queries must depend on user input. Consider the following query which returns all the flights that happened in a certain month:"
   ]
  },
  {
   "cell_type": "code",
   "execution_count": 16,
   "id": "1b1f21b4",
   "metadata": {
    "colab": {
     "base_uri": "https://localhost:8080/"
    },
    "executionInfo": {
     "elapsed": 172,
     "status": "ok",
     "timestamp": 1707325519515,
     "user": {
      "displayName": "Jayashree Ravi",
      "userId": "06933604785290521829"
     },
     "user_tz": 300
    },
    "id": "1b1f21b4",
    "outputId": "2af6dc23-579f-4c9d-813b-35757539c448"
   },
   "outputs": [
    {
     "data": {
      "text/plain": [
       "28135"
      ]
     },
     "execution_count": 16,
     "metadata": {},
     "output_type": "execute_result"
    }
   ],
   "source": [
    "def num_flights_in_month(month):\n",
    "    # query = f\"str\"\n",
    "    # YOUR CODE \n",
    "    query = f\"SELECT COUNT() FROM flights WHERE month = {month}\"\n",
    "    return cur.execute(query).fetchone()[0]\n",
    "    \n",
    "num_flights_in_month(12)"
   ]
  },
  {
   "cell_type": "code",
   "execution_count": 22,
   "id": "c8355075-cc23-401c-889f-43dd5c8d2998",
   "metadata": {},
   "outputs": [
    {
     "data": {
      "text/plain": [
       "[(1, 27004),\n",
       " (2, 24951),\n",
       " (3, 28834),\n",
       " (4, 28330),\n",
       " (5, 28796),\n",
       " (6, 28243),\n",
       " (7, 29425),\n",
       " (8, 29327),\n",
       " (9, 27574),\n",
       " (10, 28889),\n",
       " (11, 27268),\n",
       " (12, 28135)]"
      ]
     },
     "execution_count": 22,
     "metadata": {},
     "output_type": "execute_result"
    }
   ],
   "source": [
    "query = \"\"\"\n",
    "SELECT\n",
    "    month,\n",
    "    COUNT() as flight_count\n",
    "FROM flights\n",
    "GROUP BY month\n",
    "ORDER BY month\n",
    "\"\"\"\n",
    "cur.execute(query).fetchall()"
   ]
  },
  {
   "cell_type": "markdown",
   "id": "5e8b7851",
   "metadata": {
    "id": "5e8b7851"
   },
   "source": [
    "For queries that depend on a parameter, we can use the special placeholder `?` to have the database do parameter substitution for us:"
   ]
  },
  {
   "cell_type": "code",
   "execution_count": 18,
   "id": "99887b01",
   "metadata": {
    "colab": {
     "base_uri": "https://localhost:8080/"
    },
    "executionInfo": {
     "elapsed": 168,
     "status": "ok",
     "timestamp": 1707325712899,
     "user": {
      "displayName": "Jayashree Ravi",
      "userId": "06933604785290521829"
     },
     "user_tz": 300
    },
    "id": "99887b01",
    "outputId": "e4b38617-e0fb-4270-9473-ba39e196f5dd"
   },
   "outputs": [
    {
     "ename": "IndentationError",
     "evalue": "unexpected indent (2243708671.py, line 6)",
     "output_type": "error",
     "traceback": [
      "\u001b[1;36m  Cell \u001b[1;32mIn[18], line 6\u001b[1;36m\u001b[0m\n\u001b[1;33m    month,\u001b[0m\n\u001b[1;37m    ^\u001b[0m\n\u001b[1;31mIndentationError\u001b[0m\u001b[1;31m:\u001b[0m unexpected indent\n"
     ]
    }
   ],
   "source": [
    "def num_flights_on_day(m, d):\n",
    "    # query = f\"str\"\n",
    "    # YOUR CODE HERE\n",
    "\n",
    "    return result[0]\n",
    "\n",
    "num_flights_on_day(12, 25)"
   ]
  },
  {
   "cell_type": "markdown",
   "id": "90138664",
   "metadata": {
    "id": "90138664"
   },
   "source": [
    "## Some questions about `flights`\n",
    "\n",
    "Now we will use SQL queries to various questions about the `flights` dataset."
   ]
  },
  {
   "cell_type": "markdown",
   "id": "6188ea38",
   "metadata": {
    "id": "6188ea38"
   },
   "source": [
    "### Which airport is the busiest?\n",
    "We need to aggregate `flights` by the `origin` column, and they count the number of rows in each group."
   ]
  },
  {
   "cell_type": "code",
   "execution_count": null,
   "id": "c711a510",
   "metadata": {
    "colab": {
     "base_uri": "https://localhost:8080/"
    },
    "executionInfo": {
     "elapsed": 249,
     "status": "ok",
     "timestamp": 1696513121437,
     "user": {
      "displayName": "Jayashree Ravi",
      "userId": "06933604785290521829"
     },
     "user_tz": 240
    },
    "id": "c711a510",
    "outputId": "863e8989-fa95-4b51-c021-dac4f90e1556"
   },
   "outputs": [],
   "source": [
    "# YOUR CODE HERE"
   ]
  },
  {
   "cell_type": "code",
   "execution_count": null,
   "id": "f3091f3d-077d-4355-9a13-c9f7f9969164",
   "metadata": {},
   "outputs": [],
   "source": [
    "# YOUR CODE HERE"
   ]
  },
  {
   "cell_type": "markdown",
   "id": "91823426",
   "metadata": {
    "id": "91823426"
   },
   "source": [
    "### Which month was coldest?\n",
    "We need to aggregate `weather` by `month`, and the compute some measure of coldness."
   ]
  },
  {
   "cell_type": "code",
   "execution_count": null,
   "id": "0d7efbb7",
   "metadata": {
    "colab": {
     "base_uri": "https://localhost:8080/"
    },
    "executionInfo": {
     "elapsed": 204,
     "status": "ok",
     "timestamp": 1676464596664,
     "user": {
      "displayName": "Jayashree Ravi",
      "userId": "06933604785290521829"
     },
     "user_tz": 300
    },
    "id": "0d7efbb7",
    "outputId": "e81c17d4-bd3e-4af9-f51d-cdecdbdcf22a"
   },
   "outputs": [],
   "source": [
    "# YOUR CODE HERE"
   ]
  },
  {
   "cell_type": "markdown",
   "id": "581be596",
   "metadata": {
    "id": "581be596"
   },
   "source": [
    "### What is the most popular carrier at each of the three NYC airports?\n",
    "This one is a bit trickier. We start by counting the number of flights for each combination of `carrier` and `origin`:"
   ]
  },
  {
   "cell_type": "code",
   "execution_count": null,
   "id": "7882fcf3",
   "metadata": {
    "colab": {
     "base_uri": "https://localhost:8080/"
    },
    "executionInfo": {
     "elapsed": 433,
     "status": "ok",
     "timestamp": 1707310169241,
     "user": {
      "displayName": "Jayashree Ravi",
      "userId": "06933604785290521829"
     },
     "user_tz": 300
    },
    "id": "7882fcf3",
    "outputId": "62b88b64-24a6-441c-9afc-29f7417c056c"
   },
   "outputs": [],
   "source": [
    "# YOUR CODE HERE"
   ]
  },
  {
   "cell_type": "markdown",
   "id": "Xc_m4GFtnwgz",
   "metadata": {
    "id": "Xc_m4GFtnwgz"
   },
   "source": [
    "This got us all the records. But we want only the only the most popular carrier for each airport"
   ]
  }
 ],
 "metadata": {
  "celltoolbar": "Slideshow",
  "colab": {
   "provenance": []
  },
  "kernelspec": {
   "display_name": "Python 3 (ipykernel)",
   "language": "python",
   "name": "python3"
  },
  "language_info": {
   "codemirror_mode": {
    "name": "ipython",
    "version": 3
   },
   "file_extension": ".py",
   "mimetype": "text/x-python",
   "name": "python",
   "nbconvert_exporter": "python",
   "pygments_lexer": "ipython3",
   "version": "3.12.4"
  }
 },
 "nbformat": 4,
 "nbformat_minor": 5
}
