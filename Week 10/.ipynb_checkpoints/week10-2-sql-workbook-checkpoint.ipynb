{
 "cells": [
  {
   "cell_type": "markdown",
   "id": "00060f85",
   "metadata": {
    "id": "00060f85"
   },
   "source": [
    "\n",
    "## SQL exercises"
   ]
  },
  {
   "cell_type": "markdown",
   "id": "0415bee5",
   "metadata": {
    "id": "0415bee5"
   },
   "source": [
    "In this lecture we'll practice performing SQL queries using the Python SQLite module and the `flights` database:"
   ]
  },
  {
   "cell_type": "code",
   "execution_count": null,
   "id": "db31de16",
   "metadata": {
    "executionInfo": {
     "elapsed": 154,
     "status": "ok",
     "timestamp": 1707324747243,
     "user": {
      "displayName": "Jayashree Ravi",
      "userId": "06933604785290521829"
     },
     "user_tz": 300
    },
    "id": "db31de16"
   },
   "outputs": [],
   "source": [
    "import sqlite3\n",
    "con = sqlite3.connect(\"flights.sqlite\")\n",
    "cur = con.cursor()\n",
    "\n",
    "# Get the list of tables\n",
    "cur.execute(\"SELECT name FROM sqlite_master WHERE type='table';\")\n",
    "tables = cur.fetchall()\n",
    "# For each table, get its schema\n",
    "for table in tables:\n",
    "    table_name = table[0]\n",
    "    print(f\"\\nTable: {table_name}\")\n",
    "    cur.execute(f\"PRAGMA table_info({table_name});\")\n",
    "    columns = cur.fetchall()\n",
    "    for col in columns:\n",
    "        print(f\"  {col[1]} ({col[2]})\")"
   ]
  },
  {
   "cell_type": "code",
   "execution_count": null,
   "id": "80194acf-79f5-4dfa-a55a-a0e8e962a07e",
   "metadata": {},
   "outputs": [],
   "source": [
    "import pandas as pd\n",
    "# Visualize the tables using pandas\n",
    "# 1. Airlines table (carrier codes and full names)\n",
    "airlines_query = \"SELECT * FROM airlines\"\n",
    "airlines_df = pd.read_sql_query(airlines_query, con)\n",
    "print(\"AIRLINES TABLE:\")\n",
    "print(airlines_df)\n",
    "print(\"\\n\" + \"=\"*50 + \"\\n\")\n",
    "\n",
    "# 2. Airports table (airport information)\n",
    "airports_query = \"SELECT * FROM airports\"\n",
    "airports_df = pd.read_sql_query(airports_query, con)\n",
    "print(\"AIRPORTS TABLE:\")\n",
    "print(airports_df)\n",
    "print(\"\\n\" + \"=\"*50 + \"\\n\")\n",
    "\n",
    "# 3. Sample of flights table (it's usually too large to show all)\n",
    "flights_query = \"\"\"\n",
    "SELECT \n",
    "    year, month, day,\n",
    "    carrier, flight,\n",
    "    origin, dest,\n",
    "    dep_time, arr_time,\n",
    "    dep_delay, arr_delay\n",
    "FROM flights \n",
    "LIMIT 5\n",
    "\"\"\"\n",
    "flights_df = pd.read_sql_query(flights_query, con)\n",
    "print(\"FLIGHTS TABLE (Sample):\")\n",
    "print(flights_df)\n",
    "print(\"\\n\" + \"=\"*50 + \"\\n\")\n",
    "\n",
    "# 4. Sample of weather table\n",
    "weather_query = \"\"\"\n",
    "SELECT \n",
    "    origin, year, month, day, hour,\n",
    "    temp, wind_speed, wind_dir, precip, visib\n",
    "FROM weather \n",
    "LIMIT 5\n",
    "\"\"\"\n",
    "weather_df = pd.read_sql_query(weather_query, con)\n",
    "print(\"WEATHER TABLE (Sample):\")\n",
    "print(weather_df)"
   ]
  },
  {
   "cell_type": "markdown",
   "id": "0699e89e",
   "metadata": {
    "id": "0699e89e"
   },
   "source": [
    "### The `cursor` object\n",
    "The cursor object is used to perform queries and fetch results. `cur.execute(query)` will execute `query` and return a results object:"
   ]
  },
  {
   "cell_type": "markdown",
   "id": "a9bff225",
   "metadata": {
    "id": "a9bff225"
   },
   "source": [
    "### Fetching results\n",
    "To retrieve results, use the `cur.fetchone()` or `cur.fetchall()` methods:"
   ]
  },
  {
   "cell_type": "code",
   "execution_count": null,
   "id": "7bb25bd0",
   "metadata": {
    "colab": {
     "base_uri": "https://localhost:8080/"
    },
    "executionInfo": {
     "elapsed": 133,
     "status": "ok",
     "timestamp": 1707325312540,
     "user": {
      "displayName": "Jayashree Ravi",
      "userId": "06933604785290521829"
     },
     "user_tz": 300
    },
    "id": "7bb25bd0",
    "outputId": "441f275b-bfaf-4528-ebf9-a177c191a194"
   },
   "outputs": [],
   "source": [
    "cur.fetchone()"
   ]
  },
  {
   "cell_type": "markdown",
   "id": "41cf4644",
   "metadata": {
    "id": "41cf4644"
   },
   "source": [
    "This returns a tuple containing one entry for each column in our `SELECT` statement."
   ]
  },
  {
   "cell_type": "markdown",
   "id": "a21dec25",
   "metadata": {
    "id": "a21dec25"
   },
   "source": [
    "If you want all the rows, use `cur.fetchall()`:"
   ]
  },
  {
   "cell_type": "markdown",
   "id": "e7e9d5e0",
   "metadata": {
    "id": "e7e9d5e0"
   },
   "source": [
    "### Parameterized queries"
   ]
  },
  {
   "cell_type": "markdown",
   "id": "e754d102",
   "metadata": {
    "id": "e754d102"
   },
   "source": [
    "Sometimes our queries must depend on user input. Consider the following query which returns all the flights that happened in a certain month:"
   ]
  },
  {
   "cell_type": "code",
   "execution_count": null,
   "id": "1b1f21b4",
   "metadata": {
    "colab": {
     "base_uri": "https://localhost:8080/"
    },
    "executionInfo": {
     "elapsed": 172,
     "status": "ok",
     "timestamp": 1707325519515,
     "user": {
      "displayName": "Jayashree Ravi",
      "userId": "06933604785290521829"
     },
     "user_tz": 300
    },
    "id": "1b1f21b4",
    "outputId": "2af6dc23-579f-4c9d-813b-35757539c448"
   },
   "outputs": [],
   "source": [
    "def num_flights_in_month(month):\n",
    "    # query = f\"str\"\n",
    "    # YOUR CODE HERE\n",
    "    return cur.execute(query).fetchone()[0]\n",
    "    \n",
    "num_flights_in_month(12)"
   ]
  },
  {
   "cell_type": "markdown",
   "id": "5e8b7851",
   "metadata": {
    "id": "5e8b7851"
   },
   "source": [
    "For queries that depend on a parameter, we can use the special placeholder `?` to have the database do parameter substitution for us:"
   ]
  },
  {
   "cell_type": "code",
   "execution_count": null,
   "id": "99887b01",
   "metadata": {
    "colab": {
     "base_uri": "https://localhost:8080/"
    },
    "executionInfo": {
     "elapsed": 168,
     "status": "ok",
     "timestamp": 1707325712899,
     "user": {
      "displayName": "Jayashree Ravi",
      "userId": "06933604785290521829"
     },
     "user_tz": 300
    },
    "id": "99887b01",
    "outputId": "e4b38617-e0fb-4270-9473-ba39e196f5dd"
   },
   "outputs": [],
   "source": [
    "def num_flights_on_day(m, d):\n",
    "    # query = f\"str\"\n",
    "    # YOUR CODE HERE\n",
    "    return result[0]\n",
    "\n",
    "num_flights_on_day(12, 25)"
   ]
  },
  {
   "cell_type": "markdown",
   "id": "90138664",
   "metadata": {
    "id": "90138664"
   },
   "source": [
    "## Some questions about `flights`\n",
    "\n",
    "Now we will use SQL queries to various questions about the `flights` dataset."
   ]
  },
  {
   "cell_type": "markdown",
   "id": "6188ea38",
   "metadata": {
    "id": "6188ea38"
   },
   "source": [
    "### Which airport is the busiest?\n",
    "We need to aggregate `flights` by the `origin` column, and they count the number of rows in each group."
   ]
  },
  {
   "cell_type": "code",
   "execution_count": null,
   "id": "c711a510",
   "metadata": {
    "colab": {
     "base_uri": "https://localhost:8080/"
    },
    "executionInfo": {
     "elapsed": 249,
     "status": "ok",
     "timestamp": 1696513121437,
     "user": {
      "displayName": "Jayashree Ravi",
      "userId": "06933604785290521829"
     },
     "user_tz": 240
    },
    "id": "c711a510",
    "outputId": "863e8989-fa95-4b51-c021-dac4f90e1556"
   },
   "outputs": [],
   "source": [
    "# YOUR CODE HERE"
   ]
  },
  {
   "cell_type": "code",
   "execution_count": null,
   "id": "f3091f3d-077d-4355-9a13-c9f7f9969164",
   "metadata": {},
   "outputs": [],
   "source": [
    "# YOUR CODE HERE"
   ]
  },
  {
   "cell_type": "markdown",
   "id": "91823426",
   "metadata": {
    "id": "91823426"
   },
   "source": [
    "### Which month was coldest?\n",
    "We need to aggregate `weather` by `month`, and the compute some measure of coldness."
   ]
  },
  {
   "cell_type": "code",
   "execution_count": null,
   "id": "0d7efbb7",
   "metadata": {
    "colab": {
     "base_uri": "https://localhost:8080/"
    },
    "executionInfo": {
     "elapsed": 204,
     "status": "ok",
     "timestamp": 1676464596664,
     "user": {
      "displayName": "Jayashree Ravi",
      "userId": "06933604785290521829"
     },
     "user_tz": 300
    },
    "id": "0d7efbb7",
    "outputId": "e81c17d4-bd3e-4af9-f51d-cdecdbdcf22a"
   },
   "outputs": [],
   "source": [
    "# YOUR CODE HERE"
   ]
  },
  {
   "cell_type": "markdown",
   "id": "581be596",
   "metadata": {
    "id": "581be596"
   },
   "source": [
    "### What is the most popular carrier at each of the three NYC airports?\n",
    "This one is a bit trickier. We start by counting the number of flights for each combination of `carrier` and `origin`:"
   ]
  },
  {
   "cell_type": "code",
   "execution_count": null,
   "id": "7882fcf3",
   "metadata": {
    "colab": {
     "base_uri": "https://localhost:8080/"
    },
    "executionInfo": {
     "elapsed": 433,
     "status": "ok",
     "timestamp": 1707310169241,
     "user": {
      "displayName": "Jayashree Ravi",
      "userId": "06933604785290521829"
     },
     "user_tz": 300
    },
    "id": "7882fcf3",
    "outputId": "62b88b64-24a6-441c-9afc-29f7417c056c"
   },
   "outputs": [],
   "source": [
    "# YOUR CODE HERE"
   ]
  },
  {
   "cell_type": "markdown",
   "id": "Xc_m4GFtnwgz",
   "metadata": {
    "id": "Xc_m4GFtnwgz"
   },
   "source": [
    "This got us all the records. But we want only the only the most popular carrier for each airport"
   ]
  }
 ],
 "metadata": {
  "celltoolbar": "Slideshow",
  "colab": {
   "provenance": []
  },
  "kernelspec": {
   "display_name": "Python 3 (ipykernel)",
   "language": "python",
   "name": "python3"
  },
  "language_info": {
   "codemirror_mode": {
    "name": "ipython",
    "version": 3
   },
   "file_extension": ".py",
   "mimetype": "text/x-python",
   "name": "python",
   "nbconvert_exporter": "python",
   "pygments_lexer": "ipython3",
   "version": "3.12.2"
  }
 },
 "nbformat": 4,
 "nbformat_minor": 5
}
