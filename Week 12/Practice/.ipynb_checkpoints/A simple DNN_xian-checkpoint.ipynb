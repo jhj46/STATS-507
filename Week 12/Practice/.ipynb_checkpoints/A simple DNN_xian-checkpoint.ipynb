{
 "cells": [
  {
   "cell_type": "markdown",
   "id": "35d0c8c3",
   "metadata": {
    "editable": false,
    "slideshow": {
     "slide_type": ""
    },
    "tags": []
   },
   "source": [
    "# DNN in action\n",
    "\n",
    "<img src=\"sample.png\" alt=\"example\" width=\"350\" height=\"260\">\n"
   ]
  },
  {
   "cell_type": "code",
   "execution_count": null,
   "id": "f5c4a92b",
   "metadata": {
    "slideshow": {
     "slide_type": ""
    },
    "tags": []
   },
   "outputs": [],
   "source": [
    "import torch\n",
    "import torch.nn as nn\n",
    "import torch.optim as optim\n",
    "import torch.nn.functional as F\n",
    "import numpy as np\n",
    "\n",
    "# Define a custom neural network class\n",
    "class MultilayerPerceptron(nn.Module):\n",
    "    def __init__(self, num_features, hidden_size1, hidden_size2, num_classes):\n",
    "        super(MultilayerPerceptron, self).__init__()\n",
    "\n",
    "        # 1st hidden layer\n",
    "        self.linear_1 = nn.Linear(num_features, hidden_size1)\n",
    "        # 2nd linear layer\n",
    "        self.linear_2 = nn.Linear(hidden_size1, hidden_size2)\n",
    "        # output layer\n",
    "        self.linear_out = nn.Linear(hidden_size2, num_classes)\n",
    "\n",
    "    def forward(self, x):\n",
    "        x = F.relu(self.linear_1(x))\n",
    "        x = F.relu(self.linear_2(x))\n",
    "        logits = self.linear_out(x)\n",
    "        probas = torch.sigmoid(logits)\n",
    "        return logits, probas"
   ]
  },
  {
   "cell_type": "code",
   "execution_count": null,
   "id": "3ac4f3c9",
   "metadata": {
    "slideshow": {
     "slide_type": ""
    },
    "tags": []
   },
   "outputs": [],
   "source": [
    "# Generate random data for binary classification\n",
    "np.random.seed(0)\n",
    "X = np.random.rand(100, 2)  # 100 samples with 2 features\n",
    "y = (X[:, 0] + X[:, 1] > 1).astype(int)  # Binary labels based on a simple condition\n",
    "\n",
    "# Convert data to PyTorch tensors\n",
    "X = torch.tensor(X, dtype=torch.float32)\n",
    "y = torch.tensor(y, dtype=torch.float32).unsqueeze(1)  # Add an extra dimension for output\n",
    "\n",
    "# Define hyperparameters\n",
    "num_features = 2\n",
    "hidden_size1 = 64\n",
    "hidden_size2 = 32\n",
    "num_classes = 1  # Binary classification\n",
    "\n",
    "learning_rate = 0.01\n",
    "epochs = 1000\n",
    "\n",
    "# Create the neural network model\n",
    "model = MultilayerPerceptron(num_features, hidden_size1, hidden_size2, num_classes)\n",
    "\n",
    "\n",
    "# Define loss function (binary cross-entropy) and optimizer (SGD)\n",
    "criterion = nn.BCELoss()\n",
    "optimizer = optim.SGD(model.parameters(), lr=learning_rate)\n",
    "\n",
    "# Training loop\n",
    "for epoch in range(epochs):\n",
    "    # Forward pass\n",
    "    logits, outputs = model(X)\n",
    "    \n",
    "    # Compute loss\n",
    "    loss = criterion(outputs, y)\n",
    "    \n",
    "    # Backpropagation and optimization\n",
    "    optimizer.zero_grad()\n",
    "    loss.backward()\n",
    "    optimizer.step()\n",
    "    \n",
    "    if (epoch + 1) % 100 == 0:\n",
    "        print(f'Epoch [{epoch+1}/{epochs}], Loss: {loss.item():.4f}')\n",
    "\n",
    "# Testing the trained model\n",
    "with torch.no_grad():\n",
    "    test_data = torch.tensor([[0.7, 0.6]], dtype=torch.float32)\n",
    "    _, prediction = model(test_data)\n",
    "    predicted_class = (prediction > 0.5).item()\n",
    "    \n",
    "print(f\"Prediction for [0.7, 0.6]: {predicted_class} (0 represents You can pass this class, 1 represents You will fail this calss)\")"
   ]
  },
  {
   "cell_type": "code",
   "execution_count": null,
   "id": "68d0534a",
   "metadata": {},
   "outputs": [],
   "source": [
    "# Assuming 'model' is your PyTorch model\n",
    "torch.save(model.state_dict(), 'saved_model.pth')"
   ]
  },
  {
   "cell_type": "code",
   "execution_count": null,
   "id": "22a7ccf9",
   "metadata": {
    "editable": false,
    "slideshow": {
     "slide_type": ""
    },
    "tags": []
   },
   "outputs": [],
   "source": [
    "# Load the saved model state dictionary\n",
    "model_new = MultilayerPerceptron(num_features, hidden_size1, hidden_size2, num_classes)\n",
    "model_new.load_state_dict(torch.load('saved_model.pth'))\n",
    "model_new.linear_1.weight"
   ]
  },
  {
   "cell_type": "code",
   "execution_count": null,
   "id": "30ad68f3-29b7-42c0-b79e-6ef04bd3d3f5",
   "metadata": {
    "scrolled": true
   },
   "outputs": [],
   "source": [
    "import torch\n",
    "import torch.nn as nn\n",
    "import torch.optim as optim\n",
    "import torch.nn.functional as F\n",
    "import numpy as np\n",
    "from torch.utils.data import TensorDataset, DataLoader\n",
    "\n",
    "\n",
    "# Define the neural network class\n",
    "class MultilayerPerceptron(nn.Module):\n",
    "    def __init__(self, num_features, hidden_size1, hidden_size2, num_classes):\n",
    "        super(MultilayerPerceptron, self).__init__()\n",
    "        # 1st hidden layer\n",
    "        self.linear_1 = nn.Linear(num_features, hidden_size1)\n",
    "        # 2nd linear layer\n",
    "        self.linear_2 = nn.Linear(hidden_size1, hidden_size2)\n",
    "        # output layer\n",
    "        self.linear_out = nn.Linear(hidden_size2, num_classes)\n",
    "        \n",
    "    def forward(self, x):\n",
    "        x = F.relu(self.linear_1(x))\n",
    "        x = F.relu(self.linear_2(x))\n",
    "        logits = self.linear_out(x)\n",
    "        probas = torch.sigmoid(logits)\n",
    "        return logits, probas\n",
    "\n",
    "# Generate random data\n",
    "np.random.seed(0)\n",
    "X = np.random.rand(1000, 2)  # Increased to 1000 samples to demonstrate batching\n",
    "y = (X[:, 0] + X[:, 1] > 1).astype(int)\n",
    "# Convert to PyTorch tensors\n",
    "X_tensor = torch.tensor(X, dtype=torch.float32)\n",
    "y_tensor = torch.tensor(y, dtype=torch.float32).unsqueeze(1)\n",
    "\n",
    "# Create dataset and dataloader\n",
    "# Create dataset and dataloader using TensorDataset\n",
    "dataset = TensorDataset(X_tensor, y_tensor)\n",
    "batch_size = 32\n",
    "dataloader = DataLoader(dataset, batch_size=batch_size, shuffle=True)\n",
    "\n",
    "# Define hyperparameters\n",
    "num_features = 2\n",
    "hidden_size1 = 64\n",
    "hidden_size2 = 32\n",
    "num_classes = 1\n",
    "learning_rate = 0.01\n",
    "epochs = 100\n",
    "\n",
    "# Create the model\n",
    "model = MultilayerPerceptron(num_features, hidden_size1, hidden_size2, num_classes)\n",
    "\n",
    "# Define loss function and optimizer\n",
    "criterion = nn.BCELoss()\n",
    "optimizer = optim.SGD(model.parameters(), lr=learning_rate)\n",
    "\n",
    "# Training loop with batches\n",
    "for epoch in range(epochs):\n",
    "    model.train()\n",
    "    total_loss = 0\n",
    "    num_batches = 0\n",
    "    \n",
    "    for batch_X, batch_y in dataloader:\n",
    "        # Forward pass\n",
    "        logits, outputs = model(batch_X)\n",
    "        \n",
    "        # Compute loss\n",
    "        loss = criterion(outputs, batch_y)\n",
    "        total_loss += loss.item()\n",
    "        num_batches += 1\n",
    "        \n",
    "        # Backpropagation and optimization\n",
    "        optimizer.zero_grad()\n",
    "        loss.backward()\n",
    "        optimizer.step()\n",
    "    \n",
    "    # Calculate average loss for the epoch\n",
    "    avg_loss = total_loss / num_batches\n",
    "    print(f'Epoch [{epoch+1}/{epochs}], Average Loss: {avg_loss:.4f}')\n",
    "\n",
    "# Testing the trained model\n",
    "model.eval()\n",
    "with torch.no_grad():\n",
    "    test_data = torch.tensor([[0.7, 0.6]], dtype=torch.float32)\n",
    "    _, prediction = model(test_data)\n",
    "    predicted_class = (prediction > 0.5).item()\n",
    "    \n",
    "print(f\"Prediction for [0.7, 0.6]: {predicted_class} (0 represents Pass, 1 represents Fail)\")"
   ]
  },
  {
   "cell_type": "code",
   "execution_count": null,
   "id": "4fd78c4f-9709-43e4-a9fa-4002039cf394",
   "metadata": {},
   "outputs": [],
   "source": []
  }
 ],
 "metadata": {
  "kernelspec": {
   "display_name": "Python 3 (ipykernel)",
   "language": "python",
   "name": "python3"
  },
  "language_info": {
   "codemirror_mode": {
    "name": "ipython",
    "version": 3
   },
   "file_extension": ".py",
   "mimetype": "text/x-python",
   "name": "python",
   "nbconvert_exporter": "python",
   "pygments_lexer": "ipython3",
   "version": "3.12.2"
  }
 },
 "nbformat": 4,
 "nbformat_minor": 5
}
