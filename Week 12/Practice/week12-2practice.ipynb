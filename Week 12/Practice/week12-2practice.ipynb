{
 "cells": [
  {
   "cell_type": "markdown",
   "metadata": {
    "deletable": false,
    "nbgrader": {
     "cell_type": "markdown",
     "checksum": "786df1667a9444ef067bca5d3684fc6f",
     "grade": false,
     "grade_id": "cell-142eb68406c17bde",
     "locked": true,
     "schema_version": 3,
     "solution": false,
     "task": false
    }
   },
   "source": [
    "# Week 12-2 Practice"
   ]
  },
  {
   "cell_type": "markdown",
   "metadata": {
    "deletable": false,
    "nbgrader": {
     "cell_type": "markdown",
     "checksum": "c75e9055174abaeaa215aa1eb8b2fb0f",
     "grade": false,
     "grade_id": "cell-b4f848964553845a",
     "locked": true,
     "schema_version": 3,
     "solution": false,
     "task": false
    }
   },
   "source": [
    "### Problem 1: Working with PyTorch datasets\n",
    "Find the mean brightness of CIFAR-10 images by iterating through the dataset and summing the pixel intensities."
   ]
  },
  {
   "cell_type": "code",
   "execution_count": null,
   "metadata": {
    "slideshow": {
     "slide_type": ""
    },
    "tags": []
   },
   "outputs": [],
   "source": [
    "import torch\n",
    "import numpy as np\n",
    "from torchvision import datasets\n",
    "import torchvision.transforms as transforms\n",
    "\n",
    "trainset = datasets.CIFAR10(\n",
    "    root='./data',      # Directory where the dataset will be stored\n",
    "    train=True,         # Get training set (True) or test set (False)\n",
    "    download=True,      # Download the dataset if not already present\n",
    "    transform=transforms.ToTensor()  # Convert images to PyTorch tensors\n",
    ")"
   ]
  },
  {
   "cell_type": "code",
   "execution_count": null,
   "metadata": {
    "nbgrader": {
     "cell_type": "code",
     "checksum": "d687d5d32d643f6474164093b8dcfdad",
     "grade": false,
     "grade_id": "cell-27ce2c0bf9245c46",
     "locked": true,
     "schema_version": 3,
     "solution": false,
     "task": false
    }
   },
   "outputs": [],
   "source": [
    "from matplotlib import pyplot as plt\n",
    "\n",
    "\n",
    "def imshow(img):\n",
    "    npimg = img.numpy()\n",
    "    plt.imshow(np.transpose(npimg, (1, 2, 0)))\n",
    "    plt.show()\n",
    "\n",
    "\n",
    "for i, (img, label) in enumerate(trainset):\n",
    "    if i >= 5:  # Stop after 5 images\n",
    "        break\n",
    "    imshow(img)\n",
    "    print(f\"Label: {label}\")"
   ]
  },
  {
   "cell_type": "code",
   "execution_count": null,
   "metadata": {
    "nbgrader": {
     "cell_type": "code",
     "checksum": "842cfc78780c9581c32791daaf8d240f",
     "grade": false,
     "grade_id": "cell-9f3da1d5dcc25501",
     "locked": false,
     "schema_version": 3,
     "solution": true,
     "task": false
    }
   },
   "outputs": [],
   "source": [
    "def mean_brightness_directly(dataset):\n",
    "    # YOUR CODE HERE\n",
    "    raise NotImplementedError()"
   ]
  },
  {
   "cell_type": "code",
   "execution_count": null,
   "metadata": {},
   "outputs": [],
   "source": [
    "assert abs(mean_brightness_directly(trainset) - 0.4733) < 1e-4"
   ]
  },
  {
   "cell_type": "markdown",
   "metadata": {},
   "source": [
    "### Problem 2: Data loaders\n",
    "Find the mean brightness of CIFAR-10 images by iterating through the dataset using a DataLoader with a batch size of 256."
   ]
  },
  {
   "cell_type": "code",
   "execution_count": null,
   "metadata": {},
   "outputs": [],
   "source": [
    "from torch.utils.data import DataLoader\n",
    "\n",
    "def mean_brightness_dataloader(dataset):\n",
    "    loader = DataLoader(trainset, batch_size=256, shuffle=True)\n",
    "    # YOUR CODE HERE\n",
    "    raise NotImplementedError()"
   ]
  },
  {
   "cell_type": "code",
   "execution_count": null,
   "metadata": {},
   "outputs": [],
   "source": [
    "assert abs(mean_brightness_dataloader(trainset) - 0.4733) < 1e-4"
   ]
  },
  {
   "cell_type": "markdown",
   "metadata": {},
   "source": [
    "### Problem 3: Minimizing a loss function using SGD\n",
    "Find the mean brightness of CIFAR-10 images in two ways: by iterating through the dataset and summing the pixel intensities and with stochastic gradient descent, by minimizing squared error."
   ]
  },
  {
   "cell_type": "code",
   "execution_count": null,
   "metadata": {},
   "outputs": [],
   "source": [
    "def mean_brightness_sgd(dataset):\n",
    "    loader = DataLoader(trainset, batch_size=256, shuffle=True)\n",
    "    cur_mean = torch.zeros(1)\n",
    "    cur_mean.requires_grad_(True)\n",
    "    # YOUR CODE HERE\n",
    "    raise NotImplementedError()\n",
    "\n",
    "    return cur_mean.data.item()"
   ]
  },
  {
   "cell_type": "code",
   "execution_count": null,
   "metadata": {},
   "outputs": [],
   "source": [
    "assert abs(mean_brightness_sgd(trainset) - 0.4733) < 1e-2"
   ]
  },
  {
   "cell_type": "code",
   "execution_count": null,
   "metadata": {},
   "outputs": [],
   "source": []
  }
 ],
 "metadata": {
  "kernelspec": {
   "display_name": "Python 3 (ipykernel)",
   "language": "python",
   "name": "python3"
  },
  "language_info": {
   "codemirror_mode": {
    "name": "ipython",
    "version": 3
   },
   "file_extension": ".py",
   "mimetype": "text/x-python",
   "name": "python",
   "nbconvert_exporter": "python",
   "pygments_lexer": "ipython3",
   "version": "3.12.2"
  }
 },
 "nbformat": 4,
 "nbformat_minor": 4
}
