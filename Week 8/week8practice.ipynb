{
 "cells": [
  {
   "cell_type": "markdown",
   "id": "272b2a71-1e05-43a7-ada8-3b5674ba9da5",
   "metadata": {},
   "source": [
    "# The _SciPy.Stats_ Module\n",
    "* The **_scipy.stats_** module is a powerful library in Python used for statistical analysis and probability distributions.\n",
    "* It provides a wide range of functions and classes for various statistical calculations, hypothesis testing, and generating random variables from different distributions. "
   ]
  },
  {
   "cell_type": "markdown",
   "id": "141da648-f37f-4998-bbf5-21abf34526f4",
   "metadata": {},
   "source": [
    "## 1. Random Variables\n",
    "### Generating Random Numbers\n",
    "Uniform, Normal, Exponential, etc."
   ]
  },
  {
   "cell_type": "code",
   "execution_count": null,
   "id": "54568a3a-5b09-40cd-bd47-e972ebc10ac9",
   "metadata": {},
   "outputs": [],
   "source": [
    "from scipy.stats import uniform, norm, expon\n",
    "\n",
    "# Example: Uniform distribution\n",
    "data1 = uniform.rvs(size=100)\n",
    "print(data1)\n",
    "\n",
    "print()\n",
    "\n",
    "# Example: Normal distribution\n",
    "data2 = norm.rvs(size=100)\n",
    "print(data2)\n",
    "\n",
    "print()\n",
    "\n",
    "# Example: Exponential distribution\n",
    "data3 = expon.rvs(size=100)\n",
    "print(data3)"
   ]
  },
  {
   "cell_type": "markdown",
   "id": "5bcb8c0f-614a-4862-a8f1-cfcbc9f8aa27",
   "metadata": {},
   "source": [
    "## 2. Probability Distributions\n",
    "### Continuous Distributions\n",
    "Normal, Exponential, Chi-Square, etc."
   ]
  },
  {
   "cell_type": "code",
   "execution_count": null,
   "id": "4e4f35d1-bc6a-4a9f-89ef-0b98d4dfabd7",
   "metadata": {},
   "outputs": [],
   "source": [
    "from scipy.stats import norm, expon, chi2\n",
    "\n",
    "# Example: Normal distribution\n",
    "data = norm.rvs(loc=0, scale=1, size=1000)  # Generate random numbers\n",
    "print(data)\n",
    "\n",
    "print()\n",
    "\n",
    "mean, variance = norm.fit(data)  # Fit distribution to data\n",
    "\n",
    "print(\"The mean is\", mean)\n",
    "\n",
    "print()\n",
    "\n",
    "print(\"The variance is\", variance)"
   ]
  },
  {
   "cell_type": "markdown",
   "id": "b4136b88-3703-4c89-b830-10785489c3b0",
   "metadata": {},
   "source": [
    "### Discrete Distributions\n",
    "Poisson, Binomial, Geometric, etc."
   ]
  },
  {
   "cell_type": "code",
   "execution_count": null,
   "id": "5221f757-7c0a-42e6-84b4-9b2758c42d5c",
   "metadata": {},
   "outputs": [],
   "source": [
    "from scipy.stats import poisson, binom, geom\n",
    "\n",
    "# Example: Binomial distribution\n",
    "successes = binom.rvs(n=10, p=0.5, size=1000)  # Simulate 1000 trials\n",
    "print(successes)\n",
    "\n",
    "print()\n",
    "\n",
    "mean, variance = binom.stats(n=10, p=0.5)  # Calculate statistics\n",
    "print(\"The mean is\", mean)\n",
    "print()\n",
    "print(\"The variance is\", variance)"
   ]
  },
  {
   "cell_type": "markdown",
   "id": "eb7fa14d-501e-4308-b1ef-a54b259e6ac1",
   "metadata": {},
   "source": [
    "## 3. Statistical Functions\n",
    "### Descriptive Statistics\n",
    "Mean, Minimum, Maximum, Variance, Skewness, Kurtosis, etc."
   ]
  },
  {
   "cell_type": "code",
   "execution_count": null,
   "id": "e2e0ca65-135b-40c0-9a52-926fba06b48f",
   "metadata": {},
   "outputs": [],
   "source": [
    "from scipy.stats import describe, norm\n",
    "import numpy as np\n",
    "\n",
    "# Generate some random data from a normal distribution\n",
    "data = norm.rvs(loc=0, scale=1, size=100)\n",
    "print(data)\n",
    "\n",
    "print()\n",
    "\n",
    "# Calculate descriptive statistics using describe\n",
    "desc = describe(data)\n",
    "print(desc)\n",
    "\n",
    "print()\n",
    "\n",
    "# Print the descriptive statistics\n",
    "print(\"Descriptive Statistics:\")\n",
    "print(\"Mean:\", desc.mean)\n",
    "print(\"Minimum:\", desc.minmax[0])\n",
    "print(\"Maximum:\", desc.minmax[1])\n",
    "print(\"Variance:\", desc.variance)\n",
    "print(\"Skewness:\", desc.skewness)\n",
    "print(\"Kurtosis:\", desc.kurtosis)"
   ]
  },
  {
   "cell_type": "markdown",
   "id": "09a519dd-8053-400f-ac7f-6d4c9f95636b",
   "metadata": {},
   "source": [
    "### Hypothesis Testing\n",
    "t-tests, ANOVA, Kolmogorov-Smirnov test, etc."
   ]
  },
  {
   "cell_type": "code",
   "execution_count": null,
   "id": "81143aed-ad47-49f6-9bcd-d2165c400d9b",
   "metadata": {},
   "outputs": [],
   "source": [
    "from scipy.stats import ttest_ind, f_oneway, ks_2samp\n",
    "\n",
    "# Example: t-test\n",
    "group1 = norm.rvs(loc=0, scale=1, size=100)\n",
    "print(group1)\n",
    "\n",
    "print()\n",
    "\n",
    "group2 = norm.rvs(loc=0.5, scale=1, size=100)\n",
    "print(group2)\n",
    "\n",
    "print()\n",
    "\n",
    "t_stat, p_value = ttest_ind(group1, group2)\n",
    "print(\"Test statistic:\", t_stat)\n",
    "print(\"P-value:\", p_value)"
   ]
  },
  {
   "cell_type": "markdown",
   "id": "4d1f6923-1284-4917-85b5-34413a5d3596",
   "metadata": {},
   "source": [
    "## 4. Statistical Models\n",
    "### Linear Regression"
   ]
  },
  {
   "cell_type": "code",
   "execution_count": null,
   "id": "e67ecb27-e3b5-4da5-a884-3e6abcee487e",
   "metadata": {},
   "outputs": [],
   "source": [
    "from scipy.stats import linregress\n",
    "\n",
    "# Example: Linear regression\n",
    "x = np.array([0, 1, 2, 3, 4])\n",
    "y = np.array([0, 0.8, 0.9, 0.1, -0.8])\n",
    "slope, intercept, r_value, p_value, std_err = linregress(x, y)\n",
    "\n",
    "print(\"slope: \", slope)\n",
    "print(\"intercept: \", intercept)\n",
    "print(\"r_value: \", r_value)\n",
    "print(\"p_value: \", p_value)\n",
    "print(\"std_err: \", std_err)"
   ]
  },
  {
   "cell_type": "markdown",
   "id": "668d0dec-5b7e-47a2-9aba-b07d67101d1e",
   "metadata": {},
   "source": [
    "$y=0.66x-0.23$"
   ]
  },
  {
   "cell_type": "code",
   "execution_count": null,
   "id": "17ab10b1-64bb-45ba-b6a0-a1d09fe896c1",
   "metadata": {},
   "outputs": [],
   "source": [
    "from scipy.stats import linregress\n",
    "\n",
    "# Example: Linear regression\n",
    "math_score = np.array([70, 92, 45, 48, 76, 65, 67, 83, 54, 29])\n",
    "phys_score = np.array([87, 58, 64, 56, 88, 43, 72, 53, 72, 55])\n",
    "\n",
    "slope, intercept, r_value, p_value, std_err = linregress(math_score, phys_score)\n",
    "\n",
    "print(\"slope: \", slope)\n",
    "print(\"intercept: \", intercept)\n",
    "print(\"p_value: \", p_value)"
   ]
  },
  {
   "cell_type": "markdown",
   "id": "e6a75161-fbbd-46e5-b3f6-a0635f231198",
   "metadata": {},
   "source": [
    "$\\text{Physics Score}=(0.1298\\times \\text{Math Score})+56.6353$"
   ]
  },
  {
   "cell_type": "markdown",
   "id": "559fc36f-8170-4765-95f8-90c188459055",
   "metadata": {},
   "source": [
    "## 5. Probability Density Functions and Cumulative Distribution Functions\n",
    "### PDFs and CDFs\n",
    "Compute probability density function (PDF) and cumulative distribution function (CDF) for various distributions."
   ]
  },
  {
   "cell_type": "code",
   "execution_count": null,
   "id": "f8ebb8cf-b511-471c-98da-e18380df720f",
   "metadata": {},
   "outputs": [],
   "source": [
    "from scipy.stats import norm\n",
    "\n",
    "# Example: Normal distribution PDF and CDF\n",
    "x = np.linspace(-5, 5, 100)\n",
    "\n",
    "pdf_values = norm.pdf(x, loc=0, scale=1)  # PDF values\n",
    "cdf_values = norm.cdf(x, loc=0, scale=1)  # CDF values\n",
    "\n",
    "print(\"pdf_values: \", pdf_values, \"\\n\")\n",
    "print(\"cdf_values: \", cdf_values)"
   ]
  },
  {
   "cell_type": "markdown",
   "id": "691fea47-a770-40cf-b416-40f4c8b7b3e6",
   "metadata": {},
   "source": [
    "## 6. Multivariate Distributions and Tests:\n",
    "### Multivariate Normal Distribution\n",
    "Generate samples and perform statistical tests"
   ]
  },
  {
   "cell_type": "code",
   "execution_count": null,
   "id": "35aabcad-000c-4c02-9bc0-0764b5a70183",
   "metadata": {},
   "outputs": [],
   "source": [
    "from scipy.stats import multivariate_normal\n",
    "\n",
    "# Example: Multivariate normal distribution\n",
    "mean = [0, 0]\n",
    "cov = [[1, 0.5], [0.5, 1]]\n",
    "mv_normal = multivariate_normal(mean, cov)\n",
    "samples = mv_normal.rvs(size=100)\n",
    "\n",
    "print(\"samples: \", samples)"
   ]
  },
  {
   "cell_type": "markdown",
   "id": "8c53ad9d-2b55-4c78-90c9-65bb33d80549",
   "metadata": {},
   "source": [
    "## 7. Non-parametric Methods\n",
    "### Kernel Density Estimation (KDE)\n",
    "Estimate the probability density function of a random variable."
   ]
  },
  {
   "cell_type": "code",
   "execution_count": null,
   "id": "75925582-39cb-4e5e-b363-e49cb2151c3a",
   "metadata": {},
   "outputs": [],
   "source": [
    "from scipy.stats import gaussian_kde\n",
    "\n",
    "# Example: Kernel Density Estimation (KDE)\n",
    "data = np.random.normal(size=1000)\n",
    "\n",
    "\n",
    "kde = gaussian_kde(data)\n",
    "\n",
    "# Generate a grid of points for evaluation\n",
    "x_grid = np.linspace(min(data), max(data), 100)\n",
    "\n",
    "estimated_density = kde.evaluate(x_grid)  # Evaluate density on a grid\n",
    "\n",
    "print(\"data: \", data, \"\\n\")\n",
    "print(\"x_grid: \", x_grid, \"\\n\")\n",
    "print(\"estimated_density: \", estimated_density)"
   ]
  },
  {
   "cell_type": "markdown",
   "id": "fb88eaff-c090-428a-90cf-0279587f3497",
   "metadata": {},
   "source": [
    "## 8. Statistical Tests and Measures:\n",
    "### Goodness-of-fit Tests\n",
    "Test if data follows a specific distribution (e.g., chi-square test)."
   ]
  },
  {
   "cell_type": "code",
   "execution_count": null,
   "id": "0ca0a0ee-67a1-4019-8223-9faf2ce83f54",
   "metadata": {},
   "outputs": [],
   "source": [
    "from scipy.stats import chisquare\n",
    "\n",
    "# Example: Chi-square goodness-of-fit test\n",
    "observed = np.array([10, 15, 8, 12, 5])\n",
    "expected = np.array([10, 10, 10, 10, 10])\n",
    "\n",
    "chi2_stat, p_value = chisquare(observed, expected)\n",
    "\n",
    "print(\"chi2_stat: \", chi2_stat)\n",
    "print(\"p_value: \", p_value)"
   ]
  },
  {
   "cell_type": "markdown",
   "id": "189244d3-82f7-4149-a85b-c8a54f668613",
   "metadata": {},
   "source": [
    "## 9. Spatial Statistics\n",
    "### Point Pattern Analysis\n",
    "Analyze spatial distributions of points (e.g., nearest neighbor analysis)."
   ]
  },
  {
   "cell_type": "code",
   "execution_count": null,
   "id": "041ce3ee-ef54-4d32-bbb7-a6f1d198dc07",
   "metadata": {},
   "outputs": [],
   "source": [
    "from scipy.stats import pointbiserialr\n",
    "\n",
    "# Example: Point biserial correlation\n",
    "data = np.random.normal(size=100)\n",
    "binary_data = np.random.randint(0, 2, size=100)\n",
    "\n",
    "correlation, p_value = pointbiserialr(binary_data, data)\n",
    "\n",
    "print(\"correlation: \", correlation)\n",
    "print(\"p_value: \", p_value)"
   ]
  },
  {
   "cell_type": "code",
   "execution_count": null,
   "id": "dade519f-2f1c-4449-a9b4-c23396d21f04",
   "metadata": {},
   "outputs": [],
   "source": [
    "import numpy as np\n",
    "from scipy.stats import norm\n",
    "import matplotlib.pyplot as plt\n",
    "fig, ax = plt.subplots(1, 1)\n",
    "x = np.linspace(norm.ppf(0.01),\n",
    "                norm.ppf(0.99), 100)\n",
    "ax.plot(x, norm.pdf(x),\n",
    "       'r-', lw=5, alpha=0.6, label='norm pdf')"
   ]
  },
  {
   "cell_type": "code",
   "execution_count": null,
   "id": "77ca5134-2be0-488a-a810-105eedb7d2f9",
   "metadata": {},
   "outputs": [],
   "source": []
  }
 ],
 "metadata": {
  "kernelspec": {
   "display_name": "Python 3 (ipykernel)",
   "language": "python",
   "name": "python3"
  },
  "language_info": {
   "codemirror_mode": {
    "name": "ipython",
    "version": 3
   },
   "file_extension": ".py",
   "mimetype": "text/x-python",
   "name": "python",
   "nbconvert_exporter": "python",
   "pygments_lexer": "ipython3",
   "version": "3.12.2"
  }
 },
 "nbformat": 4,
 "nbformat_minor": 5
}
