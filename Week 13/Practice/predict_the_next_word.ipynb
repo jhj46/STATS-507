{
 "cells": [
  {
   "cell_type": "code",
   "execution_count": null,
   "id": "3d083e8d-e82b-4457-8c40-bdf93bf53091",
   "metadata": {},
   "outputs": [],
   "source": [
    "import numpy as np\n",
    "import torch\n",
    "import torch.nn as nn\n",
    "from torch.utils.data import Dataset, DataLoader\n",
    "from collections import Counter\n",
    "import string\n",
    "\n",
    "class SimpleRNN(nn.Module):\n",
    "    def __init__(self, vocab_size, embedding_dim, hidden_dim):\n",
    "        super(SimpleRNN, self).__init__()\n",
    "        self.hidden_dim = hidden_dim\n",
    "        self.embedding = nn.Embedding(vocab_size, embedding_dim)\n",
    "        self.rnn = nn.RNN(embedding_dim, hidden_dim, batch_first=True)\n",
    "        self.fc = nn.Linear(hidden_dim, vocab_size)\n",
    "    \n",
    "    def forward(self, x, hidden):\n",
    "        batch_size = x.size(0)\n",
    "        embeds = self.embedding(x) \n",
    "        out, hidden = self.rnn(embeds, hidden)\n",
    "        out = self.fc(out)  # (batch_size, sequence_length, vocab_size)\n",
    "        return out, hidden\n",
    "    \n",
    "    def init_hidden(self, batch_size):\n",
    "        return torch.zeros(1, batch_size, self.hidden_dim)"
   ]
  },
  {
   "cell_type": "code",
   "execution_count": null,
   "id": "7dd8f7ca-1818-428b-88ad-337a676605eb",
   "metadata": {},
   "outputs": [],
   "source": [
    "class TextDataset(Dataset):\n",
    "    def __init__(self, text, sequence_length):\n",
    "        self.text = text\n",
    "        self.sequence_length = sequence_length\n",
    "        \n",
    "        # Create vocabulary\n",
    "        words = text.split()\n",
    "        self.vocab = ['<PAD>'] + list(set(words))\n",
    "        self.word_to_idx = {word: idx for idx, word in enumerate(self.vocab)}\n",
    "        self.idx_to_word = {idx: word for word, idx in self.word_to_idx.items()}\n",
    "        \n",
    "        # Create sequences\n",
    "        self.sequences = []\n",
    "        self.targets = []\n",
    "        \n",
    "        for i in range(len(words) - sequence_length):\n",
    "            seq = words[i:i + sequence_length]\n",
    "            target = words[i + sequence_length]\n",
    "            seq_idx = [self.word_to_idx[word] for word in seq]\n",
    "            target_idx = self.word_to_idx[target]\n",
    "            self.sequences.append(seq_idx)\n",
    "            self.targets.append(target_idx)\n",
    "    \n",
    "    def __len__(self):\n",
    "        return len(self.sequences)\n",
    "    \n",
    "    def __getitem__(self, idx):\n",
    "        return (torch.tensor(self.sequences[idx]), \n",
    "                torch.tensor(self.targets[idx]))\n",
    "    \n",
    "    def vocab_size(self):\n",
    "        return len(self.vocab)"
   ]
  },
  {
   "cell_type": "code",
   "execution_count": null,
   "id": "5595fe40-39ca-416c-ad2d-97abc7684409",
   "metadata": {},
   "outputs": [],
   "source": [
    "def train_model(model, train_loader, num_epochs, learning_rate=0.001):\n",
    "    criterion = nn.CrossEntropyLoss()\n",
    "    optimizer = torch.optim.Adam(model.parameters(), lr=learning_rate)\n",
    "    \n",
    "    # Training loop\n",
    "    # YOUR CODE HERE\n",
    "    "
   ]
  },
  {
   "cell_type": "code",
   "execution_count": null,
   "id": "bb341c01-4faf-4475-b43f-7012d7b6a7b2",
   "metadata": {},
   "outputs": [],
   "source": [
    "# Example usage\n",
    "def main():\n",
    "    # Sample text\n",
    "    text = \"\"\"I love learning deep learning in Stats 507.\"\"\"\n",
    "    \n",
    "    # Hyperparameters\n",
    "    sequence_length = 3\n",
    "    embedding_dim = 64\n",
    "    hidden_dim = 128\n",
    "    batch_size = 2\n",
    "    num_epochs = 10\n",
    "    \n",
    "    # Create dataset\n",
    "    dataset = TextDataset(text, sequence_length)\n",
    "    train_loader = DataLoader(dataset, batch_size=batch_size, shuffle=True)\n",
    "    \n",
    "    # Initialize model\n",
    "    model = SimpleRNN(dataset.vocab_size(), embedding_dim, hidden_dim)\n",
    "    \n",
    "    # Train the model\n",
    "    train_model(model, train_loader, num_epochs)\n",
    "    \n",
    "    return model, dataset\n",
    "\n",
    "if __name__ == \"__main__\":\n",
    "    model, dataset = main()"
   ]
  },
  {
   "cell_type": "code",
   "execution_count": null,
   "id": "df788942-2231-4e9f-81d3-a994655833d4",
   "metadata": {},
   "outputs": [],
   "source": []
  }
 ],
 "metadata": {
  "kernelspec": {
   "display_name": "Python 3 (ipykernel)",
   "language": "python",
   "name": "python3"
  },
  "language_info": {
   "codemirror_mode": {
    "name": "ipython",
    "version": 3
   },
   "file_extension": ".py",
   "mimetype": "text/x-python",
   "name": "python",
   "nbconvert_exporter": "python",
   "pygments_lexer": "ipython3",
   "version": "3.12.2"
  }
 },
 "nbformat": 4,
 "nbformat_minor": 5
}
