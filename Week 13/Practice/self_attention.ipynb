{
 "cells": [
  {
   "cell_type": "markdown",
   "id": "35d0c8c3",
   "metadata": {
    "slideshow": {
     "slide_type": ""
    },
    "tags": []
   },
   "source": [
    "# Week 13 Practice: A simple RNN\n",
    "\n",
    "Write self attention from scratch. Finish the network."
   ]
  },
  {
   "cell_type": "code",
   "execution_count": null,
   "id": "f5c4a92b",
   "metadata": {
    "slideshow": {
     "slide_type": ""
    },
    "tags": []
   },
   "outputs": [],
   "source": [
    "import torch\n",
    "import torch.nn as nn\n",
    "import torch.nn.functional as F"
   ]
  },
  {
   "cell_type": "code",
   "execution_count": null,
   "id": "a6665ae8-7ce7-46fb-aa42-5521d8203110",
   "metadata": {},
   "outputs": [],
   "source": [
    "class SingleHeadSelfAttention(nn.Module):\n",
    "    def __init__(self, embed_dim):\n",
    "        \"\"\"\n",
    "        Simple single-head self-attention implementation\n",
    "        \n",
    "        Args:\n",
    "            embed_dim (int): Dimension of input embeddings\n",
    "        \"\"\"\n",
    "        super().__init__()\n",
    "        \n",
    "        # Linear projections for Q, K, V, you can use linear layer.\n",
    "        # YOUR CODE HERE\n",
    "        \n",
    "        # Scaling factor\n",
    "        self.scaling = embed_dim ** -0.5\n",
    "    \n",
    "    def forward(self, x):\n",
    "        \"\"\"\n",
    "        Args:\n",
    "            x: Input tensor of shape (batch_size, seq_len, embed_dim)\n",
    "        Returns:\n",
    "            Output tensor of shape (batch_size, seq_len, embed_dim)\n",
    "        \"\"\"\n",
    "        # Project inputs to Q, K, V\n",
    "        # YOUR CODE HERE\n",
    "        \n",
    "        # Compute attention scores\n",
    "        # YOUR CODE HERE\n",
    "        \n",
    "        # Apply softmax\n",
    "        # YOUR CODE HERE\n",
    "        \n",
    "        # Compute output\n",
    "        # YOUR CODE HERE\n",
    "        \n",
    "        return output"
   ]
  },
  {
   "cell_type": "code",
   "execution_count": null,
   "id": "10ffb2f9-5eea-4d08-b1dd-852dcf8ef93f",
   "metadata": {},
   "outputs": [],
   "source": [
    "# Example usage\n",
    "def example_usage():\n",
    "    # Parameters\n",
    "    batch_size = 2\n",
    "    seq_len = 4\n",
    "    embed_dim = 8\n",
    "    \n",
    "    # Create model\n",
    "    attention = SingleHeadSelfAttention(embed_dim)\n",
    "    \n",
    "    # Create random input\n",
    "    x = torch.randn(batch_size, seq_len, embed_dim)\n",
    "    \n",
    "    # Forward pass\n",
    "    output = attention(x)\n",
    "    print(f\"Input shape: {x.shape}\")\n",
    "    print(x)\n",
    "    print(f\"Output shape: {output.shape}\")\n",
    "    print(output)\n",
    "    \n",
    "    return output\n",
    "\n",
    "if __name__ == \"__main__\":\n",
    "    example_usage()"
   ]
  }
 ],
 "metadata": {
  "kernelspec": {
   "display_name": "Python 3 (ipykernel)",
   "language": "python",
   "name": "python3"
  },
  "language_info": {
   "codemirror_mode": {
    "name": "ipython",
    "version": 3
   },
   "file_extension": ".py",
   "mimetype": "text/x-python",
   "name": "python",
   "nbconvert_exporter": "python",
   "pygments_lexer": "ipython3",
   "version": "3.12.2"
  }
 },
 "nbformat": 4,
 "nbformat_minor": 5
}
