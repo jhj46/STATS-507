{
 "cells": [
  {
   "cell_type": "markdown",
   "id": "35d0c8c3",
   "metadata": {
    "slideshow": {
     "slide_type": ""
    },
    "tags": []
   },
   "source": [
    "# Week 13 Practice: A simple RNN\n",
    "\n",
    "Write RNN from scratch. Finish the forward network."
   ]
  },
  {
   "cell_type": "code",
   "execution_count": null,
   "id": "f5c4a92b",
   "metadata": {
    "slideshow": {
     "slide_type": ""
    },
    "tags": []
   },
   "outputs": [],
   "source": [
    "import torch\n",
    "import torch.nn as nn\n",
    "import torch.nn.functional as F"
   ]
  },
  {
   "cell_type": "code",
   "execution_count": null,
   "id": "3693f6a9-bc41-4620-aa15-1ae0b4c98310",
   "metadata": {},
   "outputs": [],
   "source": [
    "class SimpleRNNCell(nn.Module):\n",
    "    def __init__(self, input_size, hidden_size, output_size):\n",
    "        \"\"\"\n",
    "        Initialize RNN cell without hidden bias\n",
    "        \n",
    "        Args:\n",
    "            input_size: Size of input vector\n",
    "            hidden_size: Size of hidden state\n",
    "            output_size: Size of output vector\n",
    "        \"\"\"\n",
    "        super().__init__()\n",
    "        \n",
    "        # Define the weights as Parameters so they're tracked by PyTorch\n",
    "        self.Wxh = nn.Parameter(torch.randn(hidden_size, input_size) * 0.01)\n",
    "        self.Whh = nn.Parameter(torch.randn(hidden_size, hidden_size) * 0.01)\n",
    "        self.Why = nn.Parameter(torch.randn(output_size, hidden_size) * 0.01)\n",
    "        self.hidden_size = hidden_size\n",
    "        self.h = None\n",
    "    \n",
    "    def forward(self, x):\n",
    "        # Initialize hidden state if None\n",
    "        if self.h is None:\n",
    "            self.h = torch.zeros(x.size(0), self.hidden_size, device=x.device)\n",
    "        \n",
    "        # Update hidden state\n",
    "        # YOUR CODE HERE\n",
    "        \n",
    "        # Calculate output\n",
    "        # YOUR CODE HERE\n",
    "        return output\n",
    "    \n",
    "    def reset_hidden(self):\n",
    "        \"\"\"Reset hidden state to None\"\"\"\n",
    "        self.h = None"
   ]
  },
  {
   "cell_type": "code",
   "execution_count": null,
   "id": "a6665ae8-7ce7-46fb-aa42-5521d8203110",
   "metadata": {},
   "outputs": [],
   "source": [
    "# Example usage\n",
    "def test_pytorch_rnn():\n",
    "    # Create RNN cell\n",
    "    input_size = 3\n",
    "    hidden_size = 4\n",
    "    output_size = 2\n",
    "    rnn = SimpleRNNCell(input_size, hidden_size, output_size)\n",
    "    \n",
    "    # Create sample input (batch_size=2)\n",
    "    x = torch.tensor([\n",
    "        [1.0, 0.0, 1.0],\n",
    "        [0.0, 1.0, 0.0]\n",
    "    ])\n",
    "    \n",
    "    # Reset hidden state at start\n",
    "    rnn.reset_hidden()\n",
    "    \n",
    "    # Process multiple time steps\n",
    "    print(\"Processing sequence:\")\n",
    "    for t in range(3):\n",
    "        output = rnn(x)\n",
    "        print(f\"\\nTime step {t+1}\")\n",
    "        print(f\"Hidden state:\\n{rnn.h.round(decimals=3)}\")\n",
    "        print(f\"Output:\\n{output.round(decimals=3)}\")\n",
    "\n",
    "if __name__ == \"__main__\":\n",
    "    test_pytorch_rnn()"
   ]
  },
  {
   "cell_type": "code",
   "execution_count": null,
   "id": "1d80a5cc-bc05-43fd-a7c9-ecf3989de9c0",
   "metadata": {},
   "outputs": [],
   "source": []
  }
 ],
 "metadata": {
  "kernelspec": {
   "display_name": "Python 3 (ipykernel)",
   "language": "python",
   "name": "python3"
  },
  "language_info": {
   "codemirror_mode": {
    "name": "ipython",
    "version": 3
   },
   "file_extension": ".py",
   "mimetype": "text/x-python",
   "name": "python",
   "nbconvert_exporter": "python",
   "pygments_lexer": "ipython3",
   "version": "3.12.2"
  }
 },
 "nbformat": 4,
 "nbformat_minor": 5
}
